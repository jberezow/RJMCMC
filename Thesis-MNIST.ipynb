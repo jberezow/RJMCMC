{
 "cells": [
  {
   "cell_type": "code",
   "execution_count": null,
   "metadata": {},
   "outputs": [],
   "source": [
    "## Classification of MNIST dataset \n",
    "using Gen\n",
    "using PyPlot\n",
    "using Distributions\n",
    "using LinearAlgebra\n",
    "using Random\n",
    "using Distances\n",
    "using Flux\n",
    "using StatsBase\n",
    "include(\"hmc_mod.jl\")\n",
    "include(\"helper_functions.jl\")\n",
    "include(\"rj_proposals.jl\")\n",
    "include(\"mnist.jl\");"
   ]
  },
  {
   "cell_type": "code",
   "execution_count": 2,
   "metadata": {},
   "outputs": [],
   "source": [
    "#------------------------------------\n",
    "#Hyperparameters and Helper Functions\n",
    "#------------------------------------\n",
    "\n",
    "#Select Network Goal\n",
    "network = \"classifier\"\n",
    "#network = \"interpolator\"\n",
    "\n",
    "#Data hyperparameters\n",
    "n = 10 #Number of samples\n",
    "c = 10 #Number of classes\n",
    "d = 784 #Input dimension\n",
    "N = n*10 #Total samples\n",
    "\n",
    "#Network hyperparameters\n",
    "α = 6 #Gamma Scale for Hyperparameters\n",
    "\n",
    "#Node hyperparameters\n",
    "k_range = 12 #Maximum number of neurons per layer\n",
    "k_list = [Int(i) for i in 1:k_range]\n",
    "k_real = 2\n",
    "\n",
    "#Layer hyperparameters\n",
    "l_range = 5 #Maximum number of layers in the network\n",
    "l_list = [Int(i) for i in 1:l_range]\n",
    "l_real = 1\n",
    "\n",
    "#NUTS\n",
    "Δmax = 1000;"
   ]
  },
  {
   "cell_type": "code",
   "execution_count": 105,
   "metadata": {},
   "outputs": [
    {
     "data": {
      "text/plain": [
       "(784, 100)"
      ]
     },
     "execution_count": 105,
     "metadata": {},
     "output_type": "execute_result"
    }
   ],
   "source": [
    "#Load the MNIST Data\n",
    "x_total, y_total = load_mnist_test_set()\n",
    "x_raw = x_total[101:200,:]\n",
    "y_raw = y_total[101:200]\n",
    "a = countmap(y_raw)\n",
    "x = transpose(x_raw)\n",
    "classes = [float(y_raw[i]) for i=1:length(y_raw)]\n",
    "size(x)"
   ]
  },
  {
   "cell_type": "code",
   "execution_count": 106,
   "metadata": {},
   "outputs": [
    {
     "name": "stdout",
     "output_type": "stream",
     "text": [
      "[7.0, 1.0, 6.0, 5.0, 10.0, 10.0, 3.0, 2.0, 10.0, 5.0, 9.0, 8.0, 4.0, 10.0, 8.0, 5.0, 5.0, 5.0, 10.0, 3.0, 6.0, 5.0, 8.0, 7.0, 8.0, 10.0, 1.0, 6.0, 9.0, 6.0, 7.0, 7.0, 6.0, 8.0, 9.0, 2.0, 1.0, 2.0, 7.0, 5.0, 7.0, 8.0, 4.0, 2.0, 8.0, 2.0, 9.0, 3.0, 1.0, 3.0, 10.0, 10.0, 6.0, 6.0, 2.0, 6.0, 7.0, 1.0, 4.0, 5.0, 5.0, 7.0, 6.0, 5.0, 7.0, 6.0, 5.0, 6.0, 2.0, 5.0, 5.0, 8.0, 3.0, 4.0, 3.0, 8.0, 2.0, 9.0, 2.0, 9.0, 2.0, 9.0, 6.0, 1.0, 9.0, 10.0, 3.0, 6.0, 1.0, 2.0, 2.0, 2.0, 1.0, 10.0, 1.0, 4.0, 2.0, 7.0, 5.0, 3.0]"
     ]
    }
   ],
   "source": [
    "print(classes)"
   ]
  },
  {
   "cell_type": "code",
   "execution_count": null,
   "metadata": {},
   "outputs": [],
   "source": [
    "#Run PCA to lower dimensionality of MNIST (later, for now try big params)"
   ]
  },
  {
   "cell_type": "code",
   "execution_count": 140,
   "metadata": {},
   "outputs": [
    {
     "data": {
      "text/plain": [
       "50-element Array{Float64,1}:\n",
       " 0.0\n",
       " 0.0\n",
       " 0.0\n",
       " 0.0\n",
       " 0.0\n",
       " 0.0\n",
       " 0.0\n",
       " 0.0\n",
       " 0.0\n",
       " 0.0\n",
       " 0.0\n",
       " 0.0\n",
       " 0.0\n",
       " ⋮\n",
       " 0.0\n",
       " 0.0\n",
       " 0.0\n",
       " 0.0\n",
       " 0.0\n",
       " 0.0\n",
       " 0.0\n",
       " 0.0\n",
       " 0.0\n",
       " 0.0\n",
       " 0.0\n",
       " 1.0"
      ]
     },
     "execution_count": 140,
     "metadata": {},
     "output_type": "execute_result"
    }
   ],
   "source": [
    "hidden_nodes = 10\n",
    "hidden_array = [0.0 for i=1:hidden_nodes]\n",
    "hidden_array[hidden_nodes] = 1.0\n",
    "hidden_array"
   ]
  },
  {
   "cell_type": "code",
   "execution_count": 145,
   "metadata": {},
   "outputs": [
    {
     "name": "stdout",
     "output_type": "stream",
     "text": [
      "-Inf\n"
     ]
    },
    {
     "data": {
      "text/plain": [
       "10×100 Array{Float64,2}:\n",
       " 0.0841577  0.0931607   0.0658435   …  0.0558296   0.132519   0.050614\n",
       " 0.212359   0.310513    0.320716       0.349499    0.177497   0.331998\n",
       " 0.0296892  0.0580798   0.062267       0.0511742   0.0954857  0.0470638\n",
       " 0.0777026  0.0473984   0.0709018      0.0909491   0.0503517  0.0977026\n",
       " 0.139214   0.113426    0.129589       0.110599    0.284223   0.127723\n",
       " 0.027247   0.0150686   0.0166037   …  0.0162297   0.0378046  0.020152\n",
       " 0.0164048  0.013879    0.0141595      0.0127845   0.0172302  0.0141649\n",
       " 0.0343149  0.0645026   0.0712124      0.0724789   0.0980024  0.0772163\n",
       " 0.367337   0.276901    0.241098       0.23447     0.0921633  0.226749\n",
       " 0.0115736  0.00707153  0.00760835     0.00598577  0.0147234  0.00661674"
      ]
     },
     "execution_count": 145,
     "metadata": {},
     "output_type": "execute_result"
    }
   ],
   "source": [
    "#Bayesian Neural Net\n",
    "function G(x, trace)\n",
    "    activation = σ\n",
    "    layers = trace[:l]\n",
    "    ks = [trace[(:k,i)] for i=1:layers]\n",
    "    for i=1:layers\n",
    "        in_dim, out_dim = layer_unpacker(i, layers, ks)\n",
    "        W = reshape(trace[(:W,i)], out_dim, in_dim)\n",
    "        b = reshape(trace[(:b,i)], trace[(:k,i)])\n",
    "        nn = Dense(W, b, activation)\n",
    "        x = nn(x)\n",
    "    end\n",
    "    \n",
    "    Wₒ = reshape(trace[(:W,layers+1)], c, ks[layers])\n",
    "    bₒ = reshape(trace[(:b,layers+1)], c)\n",
    "    \n",
    "    nn_out = Dense(Wₒ, bₒ)\n",
    "    return nn_out(x)\n",
    "end;\n",
    "\n",
    "@gen function classifier(x::Array{Float64})\n",
    "    \n",
    "    #Create a blank choicemap\n",
    "    obs = choicemap()::ChoiceMap\n",
    "    \n",
    "    #Draw number of layers\n",
    "    #l ~ categorical([1/length(l_list) for i=1:length(l_list)])\n",
    "    l ~ categorical([0.0,0.0,0.0,0.0,1.0])\n",
    "    l_real = l\n",
    "    obs[:l] = l\n",
    "    \n",
    "    #Create individual weight and bias vectors\n",
    "    #Loop through hidden layers\n",
    "    k = [Int(0) for i=1:l+1]\n",
    "    for i=1:l\n",
    "        #k[i] = @trace(categorical([1/length(k_list) for i=1:length(k_list)]), (:k,i))\n",
    "        k[i] = @trace(categorical(hidden_array), (:k,i))\n",
    "        obs[(:k,i)] = k[i]\n",
    "    end\n",
    "    k[l+1] = @trace(categorical(hidden_array), (:k,l+1))\n",
    "    obs[(:k,l+1)] = k[l+1]\n",
    "    \n",
    "    α = 0.001 #Gamma Scale for Hyperparameters\n",
    "    \n",
    "    ω₁ = 100\n",
    "    ω₂ = (sum([obs[(:k,i)] for i=1:l]))*100 #Neal (1996): Scaling relationship to # of hidden units\n",
    "    τ₁ ~ gamma(ω₁,α) #Hidden Weights\n",
    "    τ₂ ~ gamma(ω₁,α) #Hidden Biases\n",
    "    τ₃ ~ gamma(ω₂,α) #Output Weights\n",
    "    #τᵧ ~ gamma(ωᵧ,α) #Noise Parameter for y\n",
    "    #τ₄ ~ gamma() #Output Biases - Neal uses fixed sigmas here\n",
    "    \n",
    "    #Standard Deviations\n",
    "    σ₁ = 1/τ₁\n",
    "    σ₂ = 1/τ₂\n",
    "    σ₃ = 1/τ₃\n",
    "    #σᵧ = sqrt(1/τᵧ)\n",
    "    \n",
    "    #Sample weight and parameter vectors\n",
    "    W = [zeros(k[i]) for i=1:l+1]\n",
    "    b = [zeros(k[i]) for i=1:l+1]\n",
    "    for i=1:l+1\n",
    "        if i == 1\n",
    "            h = Int(d * k[i])\n",
    "        else\n",
    "            h = Int(k[i-1] * k[i])\n",
    "        end\n",
    "\n",
    "        if i<=l\n",
    "            #Hidden Weights\n",
    "            μ = zeros(h)\n",
    "            Σ = Diagonal([σ₁ for i=1:length(μ)])\n",
    "            W[i] = @trace(mvnormal(μ,Σ), (:W,i))\n",
    "            obs[(:W,i)] = W[i]\n",
    "            \n",
    "            #Hidden Biases\n",
    "            μ2 = zeros(k[i])\n",
    "            Σ2 = Diagonal([σ₂ for i=1:length(μ2)])\n",
    "            b[i] = @trace(mvnormal(μ2,Σ2), (:b,i))\n",
    "            obs[(:b,i)] = b[i]\n",
    "        else\n",
    "            #Output Weights\n",
    "            μₒ = zeros(k[l]*c)\n",
    "            Σₒ = Diagonal([σ₃ for i=1:length(μₒ)])\n",
    "            W[i] = @trace(mvnormal(μₒ,Σₒ), (:W,i))\n",
    "            obs[(:W,i)] = W[i]\n",
    "\n",
    "            #Output Bias\n",
    "            μ2ₒ = zeros(c)\n",
    "            Σ2ₒ = Diagonal([1.0 for i=1:length(μ2ₒ)])\n",
    "            b[i] = @trace(mvnormal(μ2ₒ,Σ2ₒ), (:b,i))\n",
    "            obs[(:b,i)] = b[i]\n",
    "        end\n",
    "    end\n",
    "    \n",
    "    #Return Network Scores for X\n",
    "    scores = G(x,obs)\n",
    "    scores = logsoftmax(scores,dims=1)\n",
    "    scores = exp.(scores)\n",
    "    \n",
    "    #Logistic Regression Likelihood\n",
    "    y = zeros(length(scores))\n",
    "    for j=1:length(x[1,:])\n",
    "        score_vec = scores[:,j]\n",
    "        y[j] = @trace(categorical(score_vec), (:y,j))\n",
    "    end\n",
    "\n",
    "    return scores\n",
    "    \n",
    "end;\n",
    "\n",
    "(best_trace,) = generate(classifier, (x,), obs)\n",
    "println(get_score(best_trace))\n",
    "#println(best_trace[:τ₁])\n",
    "#println(best_trace[:τ₂])\n",
    "#println(best_trace[:τ₃])\n",
    "\n",
    "test = test_scores = classifier(x)\n",
    "#test_labels = data_labeller(test_scores)\n",
    "#test_acc = sum([classes[i] == test_labels[i] for i=1:length(classes)])"
   ]
  },
  {
   "cell_type": "code",
   "execution_count": null,
   "metadata": {},
   "outputs": [],
   "source": [
    "#--------------------\n",
    "#RJMCMC - using NUTS\n",
    "#--------------------\n",
    "traces = []\n",
    "scores = []\n",
    "acc = []\n",
    "\n",
    "obs_master = choicemap()::ChoiceMap\n",
    "for i=1:length(classes)\n",
    "    obs_master[(:y,i)] = classes[i]\n",
    "end\n",
    "obs_master[:l] = 5\n",
    "for i = 1:6\n",
    "    obs_master[(:k, i)] = hidden_nodes\n",
    "end\n",
    "obs = obs_master;\n",
    "\n",
    "function sample_HMC(trace, iters, obs)\n",
    "    for i=1:iters\n",
    "        prev_trace = trace\n",
    "        trace, obs = select_hyperparameters(prev_trace, obs)\n",
    "        eps = uniform(0.1,1.6)\n",
    "        selection = select_selection(trace)\n",
    "        (new_trace, hmc_score) = hmc_mod(trace, selection, L=3, eps=eps, check=false, observations=obs)\n",
    "        new_score = get_score(new_trace)\n",
    "        old_score = get_score(prev_trace)\n",
    "        score = new_score - old_score\n",
    "        println(score)\n",
    "        if rand(Uniform(0,1)) < exp(score)\n",
    "            trace = new_trace\n",
    "            accepted = 1.0\n",
    "            #println(\"Accepted\")\n",
    "        else\n",
    "            trace = prev_trace\n",
    "            accepted = 0.0\n",
    "            #println(\"Not Accepted\")\n",
    "        end\n",
    "        push!(traces, trace)\n",
    "        push!(acc, accepted)\n",
    "        if i%5 == 0\n",
    "            println(\"Epoch $i Acceptance Prob: $(sum(acc)/length(acc))\")\n",
    "        end\n",
    "    end\n",
    "    return trace     \n",
    "end\n",
    "\n",
    "obs_blank = choicemap()::ChoiceMap\n",
    "for i=1:length(classes)\n",
    "    obs_blank[(:y,i)] = classes[i]\n",
    "end\n",
    "\n",
    "(starting_trace,) = generate(classifier, (x,), obs)\n",
    "#get_score(starting_trace)\n",
    "\n",
    "sample_HMC(starting_trace, 200, obs)"
   ]
  },
  {
   "cell_type": "code",
   "execution_count": 135,
   "metadata": {},
   "outputs": [
    {
     "data": {
      "image/png": "[encoded data removed]",
      "text/plain": [
       "Figure(PyObject <Figure size 640x480 with 1 Axes>)"
      ]
     },
     "metadata": {},
     "output_type": "display_data"
    },
    {
     "data": {
      "text/plain": [
       "1-element Array{PyCall.PyObject,1}:\n",
       " PyObject <matplotlib.lines.Line2D object at 0x7f5279d26fd0>"
      ]
     },
     "execution_count": 135,
     "metadata": {},
     "output_type": "execute_result"
    }
   ],
   "source": [
    "scores = [get_score(trace) for trace in traces]\n",
    "plot(scores)"
   ]
  },
  {
   "cell_type": "code",
   "execution_count": 138,
   "metadata": {},
   "outputs": [
    {
     "data": {
      "text/plain": [
       "0.1"
      ]
     },
     "execution_count": 138,
     "metadata": {},
     "output_type": "execute_result"
    }
   ],
   "source": [
    "best_trace = traces[:20]\n",
    "score_test = G(x,best_trace)\n",
    "scores_test = logsoftmax(score_test,dims=1)\n",
    "scores_test = exp.(scores_test)\n",
    "function mnist_labeller(y::Array{Float64})\n",
    "    labels = [float(argmax(y[:,i])) for i=1:length(classes)]\n",
    "    return labels\n",
    "end\n",
    "\n",
    "labels = mnist_labeller(scores_test)\n",
    "\n",
    "function mnist_accuracy(labels::Array{Float64},classes::Array{Float64})\n",
    "    acc = [classes[i] == labels[i] ? 1.0 : 0.0 for i=1:length(classes)]\n",
    "    total_acc = sum(acc)/length(acc)\n",
    "    return total_acc\n",
    "end\n",
    "\n",
    "mnist_accuracy(labels,classes)"
   ]
  }
 ],
 "metadata": {
  "kernelspec": {
   "display_name": "Julia 1.4.2",
   "language": "julia",
   "name": "julia-1.4"
  },
  "language_info": {
   "file_extension": ".jl",
   "mimetype": "application/julia",
   "name": "julia",
   "version": "1.4.2"
  }
 },
 "nbformat": 4,
 "nbformat_minor": 4
}
