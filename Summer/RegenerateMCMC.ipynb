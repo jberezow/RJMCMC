{
 "cells": [
  {
   "cell_type": "code",
   "execution_count": 1,
   "metadata": {},
   "outputs": [
    {
     "name": "stderr",
     "output_type": "stream",
     "text": [
      "┌ Info: Precompiling Gen [ea4f424c-a589-11e8-07c0-fd5c91b9da4a]\n",
      "└ @ Base loading.jl:1260\n"
     ]
    }
   ],
   "source": [
    "#################################################\n",
    "#Regenerate: Working with MCMC in Gen: Regenerate\n",
    "#----------------------------------------------\n",
    "#https://www.gen.dev/Reasoning+About+Regenerate\n",
    "#################################################\n",
    "\n",
    "using Gen: bernoulli, @gen, @trace"
   ]
  },
  {
   "cell_type": "code",
   "execution_count": 2,
   "metadata": {},
   "outputs": [],
   "source": [
    "#The regenerate function is the basis for a MH algorithm in Gen's inference library\n",
    "@gen function foo(prob_a)\n",
    "    val = true\n",
    "    if @trace(bernoulli(prob_a), :a) #Sample a random boolean value\n",
    "        val = @trace(bernoulli(0.6), :b) && val\n",
    "    end\n",
    "    prob_c = val ? 0.9 : 0.2\n",
    "    val = @trace(bernoulli(prob_c), :c) && val\n",
    "    return val\n",
    "end;"
   ]
  },
  {
   "cell_type": "code",
   "execution_count": 21,
   "metadata": {},
   "outputs": [
    {
     "data": {
      "text/plain": [
       "│\n",
       "├── :a : true\n",
       "│\n",
       "├── :b : false\n",
       "│\n",
       "└── :c : true\n"
      ]
     },
     "metadata": {},
     "output_type": "display_data"
    }
   ],
   "source": [
    "using Gen: generate, choicemap, get_choices\n",
    "\n",
    "#Generate a trace conditioned on the provided choicemap. Weight is the log-probability\n",
    "trace, weight = generate(foo, (0.3,), choicemap((:a, true), (:b, false), (:c, true)));\n",
    "choice = get_choices(trace)\n",
    "display(choice)"
   ]
  },
  {
   "cell_type": "code",
   "execution_count": 33,
   "metadata": {},
   "outputs": [
    {
     "data": {
      "text/plain": [
       "│\n",
       "├── :a : true\n",
       "│\n",
       "├── :b : false\n",
       "│\n",
       "└── :c : true\n"
      ]
     },
     "metadata": {},
     "output_type": "display_data"
    }
   ],
   "source": [
    "using Gen: regenerate, select, NoChange\n",
    "\n",
    "#Regenerate is like a proposal for a new trace, where select corresponds to the parameters to be updated\n",
    "(trace, weight, retdiff) = regenerate(trace, (0.3,), (NoChange(),), select(:a));\n",
    "display(get_choices(trace))"
   ]
  },
  {
   "cell_type": "markdown",
   "metadata": {},
   "source": [
    "Whereas generate was given the expicit choice map of constraints (u) as an argument, regenerate constructs u by starting with the previous trace t and then removing any selected addresses. In other words, regenerate is like generate, but where the constraints are the choices made in the previous trace less the selected choices."
   ]
  },
  {
   "cell_type": "code",
   "execution_count": 53,
   "metadata": {},
   "outputs": [
    {
     "data": {
      "text/plain": [
       "│\n",
       "├── :a : true\n",
       "│\n",
       "├── :b : false\n",
       "│\n",
       "└── :c : true\n"
      ]
     },
     "metadata": {},
     "output_type": "display_data"
    },
    {
     "data": {
      "text/plain": [
       "│\n",
       "├── :a : false\n",
       "│\n",
       "└── :c : true\n"
      ]
     },
     "metadata": {},
     "output_type": "display_data"
    },
    {
     "name": "stdout",
     "output_type": "stream",
     "text": [
      "weight: -3.7297014486341915\n",
      "weight: 1.504077396776274\n"
     ]
    }
   ],
   "source": [
    "#One can imagine how this can be used to easily construct a Gibbs sampling algorithm\n",
    "trace, weight = generate(foo, (0.3,), choicemap((:a, true), (:b, false), (:c, true)));\n",
    "display(get_choices(trace))\n",
    "println(\"weight: $weight\");\n",
    "(trace, weight, retdiff) = regenerate(trace, (0.3,), (NoChange(),), select(:a));\n",
    "display(get_choices(trace))\n",
    "println(\"weight: $weight\");"
   ]
  },
  {
   "cell_type": "markdown",
   "metadata": {},
   "source": [
    "Exercise: Draw a graph in which each random choice map t where p(t;x) > 0 is a node, and where there are directed edges from t to t' if applying regenerate to t with selection a can produce trace t'. Do the same for selections b and c. What about selection a, b, c?"
   ]
  }
 ],
 "metadata": {
  "kernelspec": {
   "display_name": "Julia 1.4.2",
   "language": "julia",
   "name": "julia-1.4"
  },
  "language_info": {
   "file_extension": ".jl",
   "mimetype": "application/julia",
   "name": "julia",
   "version": "1.4.2"
  }
 },
 "nbformat": 4,
 "nbformat_minor": 4
}
