{
 "cells": [
  {
   "cell_type": "code",
   "execution_count": null,
   "metadata": {},
   "outputs": [],
   "source": [
    "###########################################################################################################\n",
    "#Modeling with Tensorflow code\n",
    "#----------------------------------------------------------------------------------------------------------\n",
    "#https://github.com/probcomp/gen-quickstart/blob/master/tutorials/Modeling%20with%20TensorFlow%20Code.ipynb\n",
    "###########################################################################################################"
   ]
  },
  {
   "cell_type": "code",
   "execution_count": 1,
   "metadata": {},
   "outputs": [
    {
     "name": "stdout",
     "output_type": "stream",
     "text": [
      "/home/jberez/.julia/conda/3/bin/python\n"
     ]
    }
   ],
   "source": [
    "#Gen can call Tensorflow code from Python\n",
    "using Gen\n",
    "using PyPlot\n",
    "using GenTF\n",
    "using PyCall\n",
    "\n",
    "println(PyCall.python)"
   ]
  },
  {
   "cell_type": "code",
   "execution_count": 2,
   "metadata": {},
   "outputs": [
    {
     "data": {
      "text/plain": [
       "PyObject <module 'tensorflow._api.v2.nn' from '/home/jberez/.julia/conda/3/lib/python3.7/site-packages/tensorflow/_api/v2/nn/__init__.py'>"
      ]
     },
     "execution_count": 2,
     "metadata": {},
     "output_type": "execute_result"
    }
   ],
   "source": [
    "tf = pyimport(\"tensorflow\")\n",
    "nn = tf.nn"
   ]
  },
  {
   "cell_type": "code",
   "execution_count": 3,
   "metadata": {},
   "outputs": [
    {
     "name": "stdout",
     "output_type": "stream",
     "text": [
      "WARNING:tensorflow:From /home/jberez/.julia/conda/3/lib/python3.7/site-packages/tensorflow/python/ops/resource_variable_ops.py:1666: calling BaseResourceVariable.__init__ (from tensorflow.python.ops.resource_variable_ops) with constraint is deprecated and will be removed in a future version.\n",
      "Instructions for updating:\n",
      "If using Keras pass *_constraint arguments to layers.\n"
     ]
    },
    {
     "data": {
      "text/plain": [
       "PyObject <tf.Tensor 'Softmax:0' shape=(None, 10) dtype=float64>"
      ]
     },
     "execution_count": 3,
     "metadata": {},
     "output_type": "execute_result"
    }
   ],
   "source": [
    "#Input placeholder for MNIST Images\n",
    "xs = tf.compat.v1.placeholder(tf.float64, shape=(nothing, 784))\n",
    "\n",
    "#Weight matrix parameter for softmax classifier initialized to a zero matrix\n",
    "init_W = zeros(Float64, 784, 10)\n",
    "W = tf.compat.v1.Variable(init_W)\n",
    "\n",
    "#Bias vector parameter initialized to zeros\n",
    "init_b = zeros(Float64, 10)\n",
    "b = tf.compat.v1.Variable(init_b)\n",
    "\n",
    "#Softmax \"Probabilities\" for each class\n",
    "probs = nn.softmax(tf.add(tf.matmul(xs, W), b), axis=1)"
   ]
  },
  {
   "cell_type": "code",
   "execution_count": 9,
   "metadata": {},
   "outputs": [
    {
     "name": "stderr",
     "output_type": "stream",
     "text": [
      "2020-07-17 10:04:10.399501: I tensorflow/core/platform/cpu_feature_guard.cc:143] Your CPU supports instructions that this TensorFlow binary was not compiled to use: SSE4.1 SSE4.2 AVX AVX2 FMA\n",
      "2020-07-17 10:04:10.429384: I tensorflow/core/platform/profile_utils/cpu_utils.cc:102] CPU Frequency: 2499950000 Hz\n",
      "2020-07-17 10:04:10.429937: I tensorflow/compiler/xla/service/service.cc:168] XLA service 0x6022260 initialized for platform Host (this does not guarantee that XLA will be used). Devices:\n",
      "2020-07-17 10:04:10.429975: I tensorflow/compiler/xla/service/service.cc:176]   StreamExecutor device (0): Host, Default Version\n",
      "2020-07-17 10:04:10.430123: I tensorflow/core/common_runtime/process_util.cc:147] Creating new thread pool with default inter op setting: 2. Tune using inter_op_parallelism_threads for best performance.\n"
     ]
    },
    {
     "data": {
      "text/plain": [
       "TFFunction(PyObject <tensorflow.python.client.session.Session object at 0x7facff28df50>, PyObject[PyObject <tf.Tensor 'Placeholder_1:0' shape=(None, 784) dtype=float64>], PyObject <tf.Tensor 'Softmax:0' shape=(None, 10) dtype=float64>, Dict{PyObject,PyObject}(PyObject <tf.Variable 'Variable_1:0' shape=(10,) dtype=float64> => PyObject <tf.Variable 'Variable_3:0' shape=(10,) dtype=float64>,PyObject <tf.Variable 'Variable:0' shape=(784, 10) dtype=float64> => PyObject <tf.Variable 'Variable_2:0' shape=(784, 10) dtype=float64>), PyObject[PyObject <tf.Tensor 'gradients/MatMul_grad/MatMul:0' shape=(None, 784) dtype=float64>], PyObject <tf.Tensor 'Placeholder_2:0' shape=<unknown> dtype=float64>, PyObject <tf.Operation 'group_deps' type=NoOp>, PyObject <tf.Operation 'group_deps_1' type=NoOp>, PyObject <tf.Tensor 'Placeholder_3:0' shape=() dtype=float64>)"
      ]
     },
     "execution_count": 9,
     "metadata": {},
     "output_type": "execute_result"
    }
   ],
   "source": [
    "#Create a new TF session for executing generative function\n",
    "tf_softmax_model = TFFunction([W,b], [xs], probs)"
   ]
  },
  {
   "cell_type": "code",
   "execution_count": 19,
   "metadata": {},
   "outputs": [
    {
     "name": "stdout",
     "output_type": "stream",
     "text": [
      "(5, 10)\n",
      "[0.1 0.1 0.1 0.1 0.1 0.1 0.1 0.1 0.1 0.1; 0.1 0.1 0.1 0.1 0.1 0.1 0.1 0.1 0.1 0.1; 0.1 0.1 0.1 0.1 0.1 0.1 0.1 0.1 0.1 0.1; 0.1 0.1 0.1 0.1 0.1 0.1 0.1 0.1 0.1 0.1; 0.1 0.1 0.1 0.1 0.1 0.1 0.1 0.1 0.1 0.1]\n",
      "(5, 10)\n",
      "[0.1 0.1 0.1 0.1 0.1 0.1 0.1 0.1 0.1 0.1; 0.1 0.1 0.1 0.1 0.1 0.1 0.1 0.1 0.1 0.1; 0.1 0.1 0.1 0.1 0.1 0.1 0.1 0.1 0.1 0.1; 0.1 0.1 0.1 0.1 0.1 0.1 0.1 0.1 0.1 0.1; 0.1 0.1 0.1 0.1 0.1 0.1 0.1 0.1 0.1 0.1]\n"
     ]
    }
   ],
   "source": [
    "#Run on fake data\n",
    "fake_xs = rand(5, 784)\n",
    "probs = tf_softmax_model(fake_xs)\n",
    "println(size(probs))\n",
    "println(probs)\n",
    "\n",
    "#The return value corresponds to the labels as determined by the model (I think)\n",
    "(trace, _) = Gen.generate(tf_softmax_model, (fake_xs,))\n",
    "Gen.get_choices(trace)\n",
    "println(size(Gen.get_retval(trace)))\n",
    "println(Gen.get_retval(trace))"
   ]
  },
  {
   "cell_type": "code",
   "execution_count": 20,
   "metadata": {},
   "outputs": [],
   "source": [
    "#Create a function to sample a categorical variable based on the model \"probabilities\"\n",
    "@gen function digit_model(xs::Matrix{Float64})\n",
    "    \n",
    "    # there are N input images, each with D pixels\n",
    "    (N, D) = size(xs)\n",
    "    \n",
    "    # invoke the `net` generative function to compute the digit label probabilities for all input images\n",
    "    probs = @trace(tf_softmax_model(xs), :softmax)\n",
    "    @assert size(probs) == (N, 10)\n",
    "    \n",
    "    # sample a digit label for each of the N input images\n",
    "    for i=1:N\n",
    "        @trace(categorical(probs[i,:]), (:y, i)) \n",
    "    end\n",
    "end;"
   ]
  },
  {
   "cell_type": "code",
   "execution_count": 23,
   "metadata": {},
   "outputs": [
    {
     "data": {
      "text/plain": [
       "│\n",
       "├── (:y, 1) : 2\n",
       "│\n",
       "├── (:y, 5) : 6\n",
       "│\n",
       "├── (:y, 2) : 5\n",
       "│\n",
       "├── (:y, 4) : 6\n",
       "│\n",
       "├── (:y, 3) : 3\n",
       "│\n",
       "└── :softmax\n"
      ]
     },
     "metadata": {},
     "output_type": "display_data"
    }
   ],
   "source": [
    "#Obtain a trace of the model\n",
    "(trace, _) = Gen.generate(digit_model, (fake_xs,));\n",
    "\n",
    "#Here we have the classification results for a single trace\n",
    "display(Gen.get_choices(trace))"
   ]
  },
  {
   "cell_type": "code",
   "execution_count": 4,
   "metadata": {},
   "outputs": [],
   "source": [
    "#Load MNIST (calls MLDatasets)\n",
    "include(\"mnist.jl\")\n",
    "training_data_loader = MNISTTrainDataLoader();"
   ]
  },
  {
   "cell_type": "code",
   "execution_count": 27,
   "metadata": {},
   "outputs": [
    {
     "data": {
      "text/plain": [
       "ParamUpdate(Dict{GenerativeFunction,Any}(TFFunction(PyObject <tensorflow.python.client.session.Session object at 0x7facff28df50>, PyObject[PyObject <tf.Tensor 'Placeholder_1:0' shape=(None, 784) dtype=float64>], PyObject <tf.Tensor 'Softmax:0' shape=(None, 10) dtype=float64>, Dict{PyObject,PyObject}(PyObject <tf.Variable 'Variable_1:0' shape=(10,) dtype=float64> => PyObject <tf.Variable 'Variable_3:0' shape=(10,) dtype=float64>,PyObject <tf.Variable 'Variable:0' shape=(784, 10) dtype=float64> => PyObject <tf.Variable 'Variable_2:0' shape=(784, 10) dtype=float64>), PyObject[PyObject <tf.Tensor 'gradients/MatMul_grad/MatMul:0' shape=(None, 784) dtype=float64>], PyObject <tf.Tensor 'Placeholder_2:0' shape=<unknown> dtype=float64>, PyObject <tf.Operation 'group_deps' type=NoOp>, PyObject <tf.Operation 'group_deps_1' type=NoOp>, PyObject <tf.Tensor 'Placeholder_3:0' shape=() dtype=float64>) => GenTF.FixedStepGradientDescentTFFunctionState(PyObject <tf.Operation 'GradientDescent' type=NoOp>, TFFunction(PyObject <tensorflow.python.client.session.Session object at 0x7facff28df50>, PyObject[PyObject <tf.Tensor 'Placeholder_1:0' shape=(None, 784) dtype=float64>], PyObject <tf.Tensor 'Softmax:0' shape=(None, 10) dtype=float64>, Dict{PyObject,PyObject}(PyObject <tf.Variable 'Variable_1:0' shape=(10,) dtype=float64> => PyObject <tf.Variable 'Variable_3:0' shape=(10,) dtype=float64>,PyObject <tf.Variable 'Variable:0' shape=(784, 10) dtype=float64> => PyObject <tf.Variable 'Variable_2:0' shape=(784, 10) dtype=float64>), PyObject[PyObject <tf.Tensor 'gradients/MatMul_grad/MatMul:0' shape=(None, 784) dtype=float64>], PyObject <tf.Tensor 'Placeholder_2:0' shape=<unknown> dtype=float64>, PyObject <tf.Operation 'group_deps' type=NoOp>, PyObject <tf.Operation 'group_deps_1' type=NoOp>, PyObject <tf.Tensor 'Placeholder_3:0' shape=() dtype=float64>))), FixedStepGradientDescent(1.0e-5))"
      ]
     },
     "execution_count": 27,
     "metadata": {},
     "output_type": "execute_result"
    }
   ],
   "source": [
    "update = Gen.ParamUpdate(Gen.FixedStepGradientDescent(0.00001), tf_softmax_model => [W,b])"
   ]
  },
  {
   "cell_type": "code",
   "execution_count": 29,
   "metadata": {},
   "outputs": [
    {
     "name": "stdout",
     "output_type": "stream",
     "text": [
      " 79.165847 seconds (94.29 M allocations: 29.663 GiB, 2.03% gc time)\n"
     ]
    }
   ],
   "source": [
    "#Obtain MNIST Batch. Data generator returns a tuple\n",
    "function data_generator()\n",
    "    (xs, ys) = next_batch(training_data_loader, 100)\n",
    "\n",
    "    @assert size(xs) == (100, 784)\n",
    "    @assert size(ys) == (100,)\n",
    "    constraints = Gen.choicemap()\n",
    "    for (i, y) in enumerate(ys)\n",
    "        constraints[(:y, i)] = y\n",
    "    end\n",
    "    ((xs,), constraints)\n",
    "end;\n",
    "\n",
    "@time scores = Gen.train!(digit_model, data_generator, update;\n",
    "    num_epoch=10000, epoch_size=1, num_minibatch=1, minibatch_size=1, verbose=false);"
   ]
  },
  {
   "cell_type": "code",
   "execution_count": 30,
   "metadata": {},
   "outputs": [
    {
     "data": {
      "image/png": "[encoded data removed]",
      "text/plain": [
       "Figure(PyObject <Figure size 640x480 with 1 Axes>)"
      ]
     },
     "metadata": {},
     "output_type": "display_data"
    },
    {
     "data": {
      "text/plain": [
       "PyObject Text(24.000000000000014, 0.5, 'Estimate of expected conditional log likelihood')"
      ]
     },
     "execution_count": 30,
     "metadata": {},
     "output_type": "execute_result"
    }
   ],
   "source": [
    "#Now plot the scores over time\n",
    "plot(scores)\n",
    "xlabel(\"Iteration for SGD\")\n",
    "ylabel(\"Estimate of expected conditional log likelihood\")"
   ]
  },
  {
   "cell_type": "code",
   "execution_count": 5,
   "metadata": {},
   "outputs": [
    {
     "data": {
      "text/plain": [
       "PyObject <tf.Tensor 'Squeeze:0' shape=(10,) dtype=float64>"
      ]
     },
     "execution_count": 5,
     "metadata": {},
     "output_type": "execute_result"
    }
   ],
   "source": [
    "#Exercise: compare to running one image at a time\n",
    "x = tf.compat.v1.placeholder(tf.float64, shape=(784,))\n",
    "W_unvec = tf.compat.v1.Variable(init_W)\n",
    "b_unvec = tf.compat.v1.Variable(init_b)\n",
    "probs_unvec = tf.squeeze(nn.softmax(tf.add(tf.matmul(tf.expand_dims(x,axis=0),W_unvec),b_unvec),axis=1),axis=0)"
   ]
  },
  {
   "cell_type": "code",
   "execution_count": 6,
   "metadata": {},
   "outputs": [
    {
     "name": "stderr",
     "output_type": "stream",
     "text": [
      "2020-07-17 10:40:26.081526: I tensorflow/core/platform/cpu_feature_guard.cc:143] Your CPU supports instructions that this TensorFlow binary was not compiled to use: SSE4.1 SSE4.2 AVX AVX2 FMA\n",
      "2020-07-17 10:40:26.098047: I tensorflow/core/platform/profile_utils/cpu_utils.cc:102] CPU Frequency: 2499950000 Hz\n",
      "2020-07-17 10:40:26.098331: I tensorflow/compiler/xla/service/service.cc:168] XLA service 0x82386e0 initialized for platform Host (this does not guarantee that XLA will be used). Devices:\n",
      "2020-07-17 10:40:26.098346: I tensorflow/compiler/xla/service/service.cc:176]   StreamExecutor device (0): Host, Default Version\n",
      "2020-07-17 10:40:26.098443: I tensorflow/core/common_runtime/process_util.cc:147] Creating new thread pool with default inter op setting: 2. Tune using inter_op_parallelism_threads for best performance.\n"
     ]
    }
   ],
   "source": [
    "tf_softmax_model_single = TFFunction([W_unvec, b_unvec], [x], probs_unvec);\n",
    "update_unvec = Gen.ParamUpdate(Gen.FixedStepGradientDescent(0.00001), tf_softmax_model_single => [W_unvec, b_unvec]);"
   ]
  },
  {
   "cell_type": "code",
   "execution_count": 19,
   "metadata": {},
   "outputs": [
    {
     "name": "stdout",
     "output_type": "stream",
     "text": [
      "  2.327766 seconds (495.75 k allocations: 61.071 MiB, 0.86% gc time)\n"
     ]
    }
   ],
   "source": [
    "@gen function digit_model_single_image(x::Vector{Float64})\n",
    "    \n",
    "    # number of pixels in the image\n",
    "    D = length(x)\n",
    "    \n",
    "    # invoke the `net` generative function to compute the digit label probabilities for all input images\n",
    "    probs2 = @trace(tf_softmax_model_single(x), :softmax_single2)\n",
    "    @assert size(probs2) == (10,)\n",
    "    \n",
    "    # sample the digit label for the image\n",
    "    @trace(categorical(probs2), :y)\n",
    "    \n",
    "    return nothing\n",
    "end;\n",
    "\n",
    "@gen function digit_model_unvectorized(xs::Matrix{Float64})\n",
    "    (N, D) = size(xs)\n",
    "    for i=1:N\n",
    "        digit_model_single_image(xs[i,:])\n",
    "    end\n",
    "    \n",
    "    return nothing\n",
    "end;\n",
    "\n",
    "function data_generator_unvectorized()\n",
    "    (xs, ys) = next_batch(training_data_loader, 100)\n",
    "\n",
    "    @assert size(xs) == (100, 784)\n",
    "    @assert size(ys) == (100,)\n",
    "    constraints = Gen.choicemap()\n",
    "    for (i, y) in enumerate(ys)\n",
    "        constraints[(:y, i)] = y\n",
    "    end\n",
    "    ((xs,), constraints)\n",
    "end;\n",
    "\n",
    "@time scores_unvec = Gen.train!(digit_model_unvectorized, data_generator_unvectorized, update_unvec;\n",
    "    num_epoch=10, epoch_size=1, num_minibatch=1, minibatch_size=1, verbose=false);"
   ]
  },
  {
   "cell_type": "code",
   "execution_count": 20,
   "metadata": {},
   "outputs": [
    {
     "data": {
      "image/png": "[encoded data removed]",
      "text/plain": [
       "Figure(PyObject <Figure size 640x480 with 1 Axes>)"
      ]
     },
     "metadata": {},
     "output_type": "display_data"
    }
   ],
   "source": [
    "plot(scores_unvec)\n",
    "xlabel(\"iterations of stochastic gradient descent\")\n",
    "ylabel(\"Estimate of expected conditional log likelihood\");"
   ]
  },
  {
   "cell_type": "code",
   "execution_count": null,
   "metadata": {},
   "outputs": [],
   "source": []
  }
 ],
 "metadata": {
  "kernelspec": {
   "display_name": "Julia 1.4.2",
   "language": "julia",
   "name": "julia-1.4"
  },
  "language_info": {
   "file_extension": ".jl",
   "mimetype": "application/julia",
   "name": "julia",
   "version": "1.4.2"
  }
 },
 "nbformat": 4,
 "nbformat_minor": 4
}
