{
 "cells": [
  {
   "cell_type": "code",
   "execution_count": 1,
   "metadata": {},
   "outputs": [],
   "source": [
    "#Library Calls\n",
    "using Gen\n",
    "using LinearAlgebra\n",
    "using Distributions\n",
    "using Random"
   ]
  },
  {
   "cell_type": "code",
   "execution_count": 12,
   "metadata": {},
   "outputs": [
    {
     "name": "stdout",
     "output_type": "stream",
     "text": [
      "1"
     ]
    },
    {
     "data": {
      "text/plain": [
       "2.718281828459045"
      ]
     },
     "execution_count": 12,
     "metadata": {},
     "output_type": "execute_result"
    }
   ],
   "source": [
    "d = 0\n",
    "b = d==1 ? 2 : 1\n",
    "print(b)\n",
    "exp(1)"
   ]
  },
  {
   "cell_type": "code",
   "execution_count": 13,
   "metadata": {},
   "outputs": [
    {
     "data": {
      "text/plain": [
       "jon_hmc (generic function with 1 method)"
      ]
     },
     "execution_count": 13,
     "metadata": {},
     "output_type": "execute_result"
    }
   ],
   "source": [
    "#I'll make my own damn HMC sampler, with blackjack and hookers\n",
    "#Page 14 of the Neal HMC Chapter (HB of MCMC)\n",
    "function jon_hmc(U, grad_U, ϵ, L, current_q, observations=EmptyChoiceMap())\n",
    "    q = current_q\n",
    "    p = rand(Normal(0,1),length(q))\n",
    "    current_p = p\n",
    "    \n",
    "    #Make a half-step for momentum at the beginning\n",
    "    p = p - ϵ * grad_U(q) / 2\n",
    "    \n",
    "    #Alternate full steps for position and momentum\n",
    "    for i=1:L\n",
    "       #Make a full step for the position\n",
    "        q = q + ϵ * p\n",
    "        #Make a full step for the momentum, except at end of trajectory\n",
    "        p = i!=L ? p - ϵ * grad_U(q) : p\n",
    "    end\n",
    "    \n",
    "    #Make a half-step for momentum at the end\n",
    "    p = p - ϵ * grad_U(q) / 2\n",
    "    \n",
    "    #Negate momentum at end of trajectory to make the proposal symmetric\n",
    "    p = -p\n",
    "    \n",
    "    #Evaluate potential and kinetic energies at start and end of trajectory\n",
    "    current_U = U(current_q)\n",
    "    current_K = sum(current_p^2)\n",
    "    proposed_U = U(q)\n",
    "    proposed_K = sum(p^2) / 2\n",
    "    \n",
    "    #Accept or reject the state at the end of the trajectory. Return either\n",
    "    #the position at the end, or the initial position\n",
    "    if rand(Uniform(0,1),1) < exp(current_U - proposed_U + current_K - proposed_K) #EQ 3.16 PG 12\n",
    "        return(q) #ACCEPT\n",
    "    else\n",
    "        return(current_q) #REJECT\n",
    "    end\n",
    "end"
   ]
  },
  {
   "cell_type": "code",
   "execution_count": 15,
   "metadata": {},
   "outputs": [
    {
     "data": {
      "text/plain": [
       "U (generic function with 1 method)"
      ]
     },
     "execution_count": 15,
     "metadata": {},
     "output_type": "execute_result"
    }
   ],
   "source": [
    "#There's very little meat in these auxiliary momentum variables\n",
    "#U(q) = -log[π(q)L(q|D)] - Negative \n",
    "function U(trace)\n",
    "    return(get_score(trace)/length(get_retval(trace)))\n",
    "end"
   ]
  },
  {
   "cell_type": "code",
   "execution_count": null,
   "metadata": {},
   "outputs": [],
   "source": [
    "#See all those gradients, Homer? Thats why your HMC sampler didn't work!\n",
    "function grad_U()\n",
    "   return(\"There's nothing here\") \n",
    "end"
   ]
  }
 ],
 "metadata": {
  "kernelspec": {
   "display_name": "Julia 1.4.2",
   "language": "julia",
   "name": "julia-1.4"
  },
  "language_info": {
   "file_extension": ".jl",
   "mimetype": "application/julia",
   "name": "julia",
   "version": "1.4.2"
  }
 },
 "nbformat": 4,
 "nbformat_minor": 4
}
