{
 "cells": [
  {
   "cell_type": "code",
   "execution_count": null,
   "metadata": {
    "scrolled": true
   },
   "outputs": [],
   "source": [
    "#Libraries\n",
    "using Gen\n",
    "using PyPlot\n",
    "using Distributions\n",
    "using LinearAlgebra\n",
    "using Flux\n",
    "#using ForwardDiff\n",
    "#using ProgressMeter\n",
    "#using BenchmarkTools;"
   ]
  },
  {
   "cell_type": "code",
   "execution_count": null,
   "metadata": {
    "scrolled": true
   },
   "outputs": [],
   "source": [
    "#Hyperparameters\n",
    "n = 10\n",
    "N = 40\n",
    "σₐ = 0.001\n",
    "k_range = 6\n",
    "k_list = [1, 2, 3, 4, 5, 6, 7, 8, 9, 10, 11, 12] #November 3\n",
    "k_list_lite = [i for i in 1:k_range];"
   ]
  },
  {
   "cell_type": "code",
   "execution_count": null,
   "metadata": {
    "scrolled": true
   },
   "outputs": [],
   "source": [
    "#Functions\n",
    "function plot_data(data,classes,alpha=1.0)\n",
    "    markers = [\"o\",\"*\"]\n",
    "    colors = [\"blue\",\"green\"]\n",
    "    for i=1:2\n",
    "        mask = [classes[j] == i for j in 1:length(classes)]\n",
    "        scatter(data[:,1][mask],data[:,2][mask],c=colors[i],alpha=alpha,marker=markers[i],zorder=3)\n",
    "    end\n",
    "end;\n",
    "\n",
    "function unpack(Θ,k)\n",
    "    m = length(Θ)\n",
    "    h = 2*k\n",
    "    Wₕ = reshape(Θ[1:h], k, 2);   \n",
    "    bₕ = reshape(Θ[h+1:h+k], k)\n",
    "    #bₕ = reshape(zeros(k), k)\n",
    "    \n",
    "    Wₒ = reshape(Θ[h+k+1:m-1], 1, k);\n",
    "    bₒ = Θ[m]\n",
    "    #bₒ = 0.0\n",
    "      \n",
    "    return Wₕ, bₕ, Wₒ, bₒ\n",
    "end\n",
    "\n",
    "function data_labeller(y::Array{Float64})\n",
    "    labels = [y[i] > 0.5 ? 2 : 1 for i=1:length(y)]\n",
    "    return labels\n",
    "end\n",
    "\n",
    "mₖ(k) = k*4 + 1;"
   ]
  },
  {
   "cell_type": "code",
   "execution_count": null,
   "metadata": {
    "scrolled": true
   },
   "outputs": [],
   "source": [
    "#Generate XOR Data\n",
    "function real_data(N::Int, modes::Int, σ::Float64)\n",
    "    μ₁ = [0.25, 0.25]\n",
    "    μ₂ = [0.25, 0.75]\n",
    "    μ₃ = [0.75, 0.75]\n",
    "    μ₄ = [0.75, 0.25]\n",
    "    #μ₅ = [1.25, 1.25]\n",
    "    #μ₆ = [1.25, 1.75]\n",
    "    #μ₇ = [1.75, 1.75]\n",
    "    #μ₈ = [1.75, 1.25]\n",
    "    μ = [μ₁, μ₂, μ₃, μ₄]\n",
    "    Σ = [[σ, 0] [0, σ]]\n",
    "    \n",
    "    all_samples = zeros(Float64, (N*modes, 2))\n",
    "    classes = zeros(Int, (N*modes))\n",
    "    \n",
    "    for i = 1:modes\n",
    "        dist = MvNormal(μ[i], Σ)\n",
    "        sample = rand(dist, N)::Matrix\n",
    "        #scatter(sample[1,:],sample[2,:])\n",
    "        all_samples[(i-1)*N+1:i*N,:] = transpose(sample)\n",
    "        classes[(i-1)*N+1:i*N] = fill(i, N)\n",
    "        classes = float(classes)\n",
    "    end\n",
    "    return all_samples, classes\n",
    "end\n",
    "    \n",
    "data_raw, classes = real_data(Int(N/4), 4, σₐ);\n",
    "classes = [(i+1) % 2 + 1 for i in classes]\n",
    "\n",
    "plot_data(data_raw,classes)\n",
    "data = transpose(data_raw)\n",
    "size(data);"
   ]
  },
  {
   "cell_type": "code",
   "execution_count": 27,
   "metadata": {},
   "outputs": [
    {
     "data": {
      "image/png": "[encoded data removed]",
      "text/plain": [
       "Figure(PyObject <Figure size 640x480 with 1 Axes>)"
      ]
     },
     "metadata": {},
     "output_type": "display_data"
    }
   ],
   "source": [
    "#Scale up - Fixed Separable Data - Multi-XOR Data\n",
    "function real_data(N::Int, modes::Int, σ::Float64)\n",
    "    μ₁ = [0.25, 0.25]\n",
    "    μ₂ = [0.5, 0.125]\n",
    "    μ₃ = [0.25, 0.75]\n",
    "    μ₄ = [0.125, 0.50]\n",
    "    μ₅ = [0.75, 0.75]\n",
    "    μ₆ = [0.50, 0.875]\n",
    "    μ₇ = [0.75, 0.25]\n",
    "    μ₈ = [0.875, 0.50]\n",
    "    μ = [μ₁, μ₂, μ₃, μ₄, μ₅, μ₆, μ₇, μ₈]\n",
    "    Σ = [[σ, 0] [0, σ]]\n",
    "    \n",
    "    all_samples = zeros(Float64, (N*modes, 2))\n",
    "    classes = zeros(Int, (N*modes))\n",
    "    \n",
    "    for i = 1:modes\n",
    "        dist = MvNormal(μ[i], Σ)\n",
    "        sample = rand(dist, N)::Matrix\n",
    "        #scatter(sample[1,:],sample[2,:])\n",
    "        all_samples[(i-1)*N+1:i*N,:] = transpose(sample)\n",
    "        classes[(i-1)*N+1:i*N] = fill(i, N)\n",
    "        classes = float(classes)\n",
    "    end\n",
    "    return all_samples, classes\n",
    "end\n",
    "    \n",
    "data_raw, classes = real_data(Int(N/8), 8, σₐ);\n",
    "classes = [(i+1) % 2 + 1 for i in classes]\n",
    "\n",
    "plot_data(data_raw,classes)\n",
    "data = transpose(data_raw)\n",
    "size(data);"
   ]
  },
  {
   "cell_type": "code",
   "execution_count": null,
   "metadata": {
    "scrolled": true
   },
   "outputs": [],
   "source": [
    "#Bayesian Neural Net\n",
    "function G(x, W₁, b₁, W₂, b₂, k::Int)\n",
    "    if(typeof(x) == Float64)\n",
    "        x = [x]\n",
    "    end\n",
    "    \n",
    "    W₁ = reshape(W₁, k, 2)\n",
    "    W₂ = reshape(W₂, 1, k)\n",
    "    b₁ = reshape(b₁, k)\n",
    "    b₂ = reshape(b₂, 1)\n",
    "    \n",
    "    nn = Chain(Dense(W₁, b₁, relu),\n",
    "               Dense(W₂, b₂))\n",
    "    return nn(x)\n",
    "end;\n",
    "\n",
    "@dist k_count(r,p,min) = neg_binom(r,p) + 1\n",
    "\n",
    "@gen function classifier(x::Array{Float64})\n",
    "    σₖ = 1000.0::Float64\n",
    "    \n",
    "    k ~ uniform_discrete(1,k_range) #Number of hidden nodes\n",
    "    #k ~ k_count(1,0.5,1) #Shifted Negative Binomial\n",
    "    #println(k)\n",
    "    \n",
    "    #Create individual weight and bias vectors\n",
    "    m = mₖ(k)\n",
    "    h = 2*k\n",
    "    \n",
    "    #Hidden Weights\n",
    "    μ₁ = zeros(h)\n",
    "    Σ₁ = Diagonal([σₖ for i=1:length(μ₁)])\n",
    "    Wₕ ~ mvnormal(μ₁,Σ₁)\n",
    "    \n",
    "    #Hidden Bias\n",
    "    μ₂ = ones(k)\n",
    "    Σ₂ = Diagonal([σₖ for i=1:length(μ₂)])\n",
    "    bₕ ~ mvnormal(μ₂,Σ₂)\n",
    "    \n",
    "    #Output Weights\n",
    "    μ₃ = zeros(k)\n",
    "    Σ₃ = Diagonal([σₖ for i=1:length(μ₃)])\n",
    "    Wₒ ~ mvnormal(μ₃,Σ₃)\n",
    "    \n",
    "    #Output Bias\n",
    "    μ₄ = ones(1)\n",
    "    Σ₄ = Diagonal([σₖ for i=1:length(μ₄)])\n",
    "    bₒ ~ mvnormal(μ₄,Σ₄)\n",
    "\n",
    "    \n",
    "    #Return Network Scores for X\n",
    "    scores = Flux.σ.(G(x,Wₕ,bₕ,Wₒ,bₒ,k))\n",
    "    \n",
    "    #Logistic Regression Likelihood\n",
    "    y = @trace(mvnormal(vec(scores), Diagonal([0.001 for i=1:length(x[1,:])])), (:y))\n",
    "\n",
    "    return scores\n",
    "    \n",
    "end;\n",
    "\n",
    "predictions = classifier(data)\n",
    "preds = data_labeller(predictions)\n",
    "plot_data(data_raw,preds)"
   ]
  },
  {
   "cell_type": "code",
   "execution_count": null,
   "metadata": {
    "scrolled": true
   },
   "outputs": [],
   "source": [
    "#Register Observed Data\n",
    "obs_master = choicemap()::ChoiceMap\n",
    "obs_master[:y] = classes .- 1\n",
    "obs = obs_master;"
   ]
  },
  {
   "cell_type": "code",
   "execution_count": null,
   "metadata": {
    "scrolled": true
   },
   "outputs": [],
   "source": [
    "#Plot of Log Likelihood Scores\n",
    "scores = []\n",
    "accs = []\n",
    "ks = []\n",
    "(best_trace,) = generate(classifier, (data,), obs)\n",
    "best_score = get_score(best_trace)/length(classes)\n",
    "best_Wₕ = best_trace[:Wₕ]\n",
    "best_Wₒ = best_trace[:Wₒ]\n",
    "best_bₕ = best_trace[:bₕ]\n",
    "best_bₒ = best_trace[:bₒ]\n",
    "best_k = best_trace[:k]\n",
    "\n",
    "best_pred_y = G(data,best_Wₕ,best_Wₒ,best_bₕ,best_bₒ,best_k)\n",
    "best_pred_labels = data_labeller(best_pred_y)\n",
    "best_acc = sum([best_trace[:y][i] == best_pred_labels[i] for i=1:length(classes)])/length(classes)\n",
    "\n",
    "function likelihood(best_acc)\n",
    "    (trace,) = generate(classifier, (data,), obs)\n",
    "    \n",
    "    Wₕ = trace[:Wₕ]\n",
    "    Wₒ = trace[:Wₒ]\n",
    "    bₕ = trace[:bₕ]\n",
    "    bₒ = trace[:bₒ]\n",
    "    k = trace[:k]\n",
    "    pred_y = G(data,Wₕ,bₕ,Wₒ,bₒ,k)\n",
    "    pred_labels = data_labeller(pred_y)\n",
    "\n",
    "    acc = sum([classes[i] == pred_labels[i] for i=1:length(classes)])\n",
    "    score = get_score(trace)/length(classes)\n",
    "    if acc > best_acc\n",
    "        best_score = score\n",
    "        best_trace = trace\n",
    "        best_acc = acc\n",
    "        best_pred_labels = pred_labels\n",
    "    end\n",
    "    push!(scores,score)\n",
    "    push!(accs,acc)\n",
    "    push!(ks, k)\n",
    "end\n",
    "\n",
    "for i=1:100000\n",
    "    likelihood(best_acc)\n",
    "end\n",
    "\n",
    "scatter(accs,scores)\n",
    "plt.title(\"Comparing Classifier Accuracy to Log Likelihood\")\n",
    "plt.xlabel(\"Classifier Accuracy\")\n",
    "plt.ylabel(\"Log Likelihood\");\n",
    "print(best_k)"
   ]
  },
  {
   "cell_type": "code",
   "execution_count": null,
   "metadata": {},
   "outputs": [],
   "source": [
    "#Need to find a way to propose birth/death moves instead of any k\n",
    "function birth_or_death(trace)\n",
    "    current_k = trace[:k]\n",
    "    if current_k == last(k_list)\n",
    "        new_trace = death(trace)\n",
    "    elseif current_k == k_list[1]\n",
    "        new_trace = birth(trace)\n",
    "    else\n",
    "        new_trace = bernoulli(0.5) ? birth(trace) : death(trace)\n",
    "    end\n",
    "    return new_trace    \n",
    "end\n",
    "\n",
    "@gen function birth(trace)\n",
    "    args = get_args(trace)\n",
    "    argdiffs = map((_) -> NoChange(), args)\n",
    "    previous_k = trace[:k]\n",
    "    new_k = k_list[previous_k + 1]\n",
    "    #new_k = previous_k + 1\n",
    "    difference = abs(new_k - previous_k)\n",
    "    Wₕ = trace[:Wₕ]\n",
    "    Wₒ = trace[:Wₒ]\n",
    "    bₕ = trace[:bₕ]\n",
    "    bₒ = trace[:bₒ]\n",
    "    \n",
    "    obs_new = choicemap()::ChoiceMap\n",
    "    obs_new[:y] = classes .- 1\n",
    "    obs_new[:Wₕ] = vcat(Wₕ,[rand(1)[1] for i=1:(2*difference)])\n",
    "    obs_new[:Wₒ] = vcat(Wₒ,[rand(1)[1] for i=1:difference])\n",
    "    obs_new[:bₕ] = vcat(bₕ,[rand(1)[1] for i=1:difference])\n",
    "    obs_new[:bₒ] = bₒ\n",
    "    obs_new[:k] = new_k\n",
    "    \n",
    "    (new_trace, weight) = generate(classifier, (data,), obs_new)\n",
    "    return new_trace\n",
    "\n",
    "end\n",
    "\n",
    "@gen function death(trace)\n",
    "    args = get_args(trace)\n",
    "    argdiffs = map((_) -> NoChange(), args)\n",
    "    previous_k = trace[:k]\n",
    "    new_k = k_list[previous_k - 1]\n",
    "    #new_k = previous_k - 1\n",
    "    difference = abs(previous_k - new_k)\n",
    "    \n",
    "    Wₕ = trace[:Wₕ]\n",
    "    Wₒ = trace[:Wₒ]\n",
    "    bₕ = trace[:bₕ]\n",
    "    bₒ = trace[:bₒ]\n",
    "    \n",
    "    obs_new = choicemap()::ChoiceMap\n",
    "    obs_new[:y] = classes .- 1\n",
    "    obs_new[:Wₕ] = Wₕ[1:new_k*2]\n",
    "    obs_new[:Wₒ] = Wₒ[1:new_k]\n",
    "    obs_new[:bₕ] = bₕ[1:new_k]\n",
    "    obs_new[:bₒ] = bₒ\n",
    "    obs_new[:k] = new_k\n",
    "    \n",
    "    (new_trace, weight) = generate(classifier, (data,), obs_new)\n",
    "    return new_trace\n",
    "end;"
   ]
  },
  {
   "cell_type": "code",
   "execution_count": null,
   "metadata": {
    "scrolled": true
   },
   "outputs": [],
   "source": [
    "traces = []\n",
    "acc = []\n",
    "ks = []\n",
    "\n",
    "function within_dimension(trace, iters)\n",
    "    for i=1:iters\n",
    "        (trace, accepted) = hmc(trace, select(:Wₕ,:bₕ,:Wₒ,:bₒ), L=8, eps=0.01, check=false, observations=obs)\n",
    "        #println(\"Within dimension: $(trace[:k])\")\n",
    "        push!(traces, trace)\n",
    "        push!(acc, accepted)\n",
    "    end\n",
    "    return trace\n",
    "end\n",
    "\n",
    "function across_dimension(trace, iters, obs)\n",
    "    selection = select(:Wₕ,:bₕ,:Wₒ,:bₒ,:k)\n",
    "    #args = get_args(trace)\n",
    "    #argdiffs = map((_) -> NoChange(), args)\n",
    "    #(new_trace, weight) = regenerate(trace, args, argdiffs, selection)\n",
    "    \n",
    "    new_trace = birth_or_death(trace)\n",
    "    \n",
    "    #test = true\n",
    "    for i=1:10\n",
    "        (new_trace, accepted) = hmc(new_trace, select(:Wₕ,:bₕ,:Wₒ,:bₒ), L=8, eps=0.01, check=false, observations=obs)\n",
    "        #accepted && (test = false)\n",
    "    end\n",
    "    #test && println(\"Nothing accepted\")\n",
    "    \n",
    "    score1 = exp(get_score(trace)/length(data))\n",
    "    score2 = exp(get_score(new_trace)/length(data))\n",
    "    score = score2/score1\n",
    "    #println(score)\n",
    "    \n",
    "    if rand(Uniform(0,1)) < score\n",
    "        accepted = true\n",
    "        trace = new_trace\n",
    "        new_k = trace[:k]\n",
    "        #println(\"New k accepted! Current k: $(new_k)\")\n",
    "        push!(acc,true)\n",
    "    else\n",
    "        #println(\"Sticking with the old k!\")\n",
    "        accepted = false\n",
    "        push!(acc,false)\n",
    "    end\n",
    "    \n",
    "    obs = obs_master\n",
    "    obs[:k] = trace[:k]\n",
    "        \n",
    "    push!(traces, trace)\n",
    "    push!(acc, accepted)\n",
    "    return trace, trace[:k]\n",
    "end\n",
    "\n",
    "function rjmcmc(starting_trace, iters)\n",
    "    trace = starting_trace\n",
    "    k = obs[:k]\n",
    "    println(\"Beginning RJMCMC. Starting k: $k\")\n",
    "    #@showprogress 1 \"Sampling...\" for i = 1:iters\n",
    "    for i=1:iters\n",
    "        if i%500 == 0\n",
    "            println(\"Epoch $i Acceptance Prob: $(sum(acc)/length(acc))\")\n",
    "        end\n",
    "        \n",
    "        if rand(Uniform(0,1)) > 0.5\n",
    "            (trace, k) = across_dimension(trace, 1, obs)\n",
    "        else\n",
    "            (trace) = within_dimension(trace, 1)\n",
    "        end\n",
    "        push!(ks, k)\n",
    "    end\n",
    "    println(\"Finished\")\n",
    "end\n",
    " \n",
    "starting_trace = best_trace\n",
    "#(starting_trace,) = generate(classifier, (data,), obs)\n",
    "obs[:k] = starting_trace[:k]\n",
    "rjmcmc(starting_trace,20000);"
   ]
  },
  {
   "cell_type": "code",
   "execution_count": 151,
   "metadata": {
    "scrolled": true
   },
   "outputs": [
    {
     "data": {
      "image/png": "[encoded data removed]",
      "text/plain": [
       "Figure(PyObject <Figure size 640x480 with 1 Axes>)"
      ]
     },
     "metadata": {},
     "output_type": "display_data"
    }
   ],
   "source": [
    "#Bar Plot of k estimates\n",
    "#ks = [traces[i][:k] for i in 1:length(traces)]\n",
    "counts = [sum([ks[i] == j for i in 1:length(ks)]) for j in k_list]\n",
    "#actual_ks = [i for i=1:maximum(ks)]\n",
    "barlist=bar(k_list,counts)\n",
    "for i in 1:k_range\n",
    "    barlist[i].set_color([0.8,0.0,0.0])\n",
    "end\n",
    "barlist[2].set_color([0.0,0.8,0.1])\n",
    "\n",
    "plt.title(\"Counts of Values for k from RJMCMC Trace\")\n",
    "plt.xlabel(\"k value\")\n",
    "plt.ylabel(\"Occurences\");"
   ]
  },
  {
   "cell_type": "code",
   "execution_count": 43,
   "metadata": {},
   "outputs": [
    {
     "data": {
      "image/png": "[encoded data removed]",
      "text/plain": [
       "Figure(PyObject <Figure size 640x480 with 1 Axes>)"
      ]
     },
     "metadata": {},
     "output_type": "display_data"
    },
    {
     "data": {
      "text/plain": [
       "1-element Array{PyCall.PyObject,1}:\n",
       " PyObject <matplotlib.lines.Line2D object at 0x7ff3118672d0>"
      ]
     },
     "execution_count": 43,
     "metadata": {},
     "output_type": "execute_result"
    }
   ],
   "source": [
    "plot(ks)"
   ]
  },
  {
   "cell_type": "code",
   "execution_count": 44,
   "metadata": {
    "scrolled": false
   },
   "outputs": [
    {
     "data": {
      "image/png": "[encoded data removed]",
      "text/plain": [
       "Figure(PyObject <Figure size 640x480 with 1 Axes>)"
      ]
     },
     "metadata": {},
     "output_type": "display_data"
    },
    {
     "name": "stderr",
     "output_type": "stream",
     "text": [
      "No handles with labels found to put in legend.\n"
     ]
    }
   ],
   "source": [
    "#hmc_traces_master = vcat(hmc_traces, hmc_traces2, hmc_traces3, hmc_traces4);\n",
    "scores2 = zeros(length(traces))\n",
    "for i=1:length(traces)\n",
    "    trace = traces[i]\n",
    "    obs = obs_master\n",
    "    scores2[i] = get_score(trace)/length(classes)\n",
    "end\n",
    "plot(scores2, color=\"red\")\n",
    "#plot(scores2, color=\"green\")\n",
    "plt.title(\"RJMCMC on a Simple MLP Classifier\")\n",
    "plt.xlabel(\"Iteration\")\n",
    "plt.ylabel(\"Log Likelihood\")\n",
    "#plt.axvline(100,label=\"Burn-In: ~1000\",color=\"red\")\n",
    "plt.legend();"
   ]
  },
  {
   "cell_type": "code",
   "execution_count": 55,
   "metadata": {},
   "outputs": [
    {
     "data": {
      "text/plain": [
       "1"
      ]
     },
     "execution_count": 55,
     "metadata": {},
     "output_type": "execute_result"
    }
   ],
   "source": [
    "index = 1"
   ]
  },
  {
   "cell_type": "code",
   "execution_count": 40,
   "metadata": {
    "scrolled": false
   },
   "outputs": [
    {
     "name": "stdout",
     "output_type": "stream",
     "text": [
      "(2, 20000)(2, 200)"
     ]
    },
    {
     "ename": "ErrorException",
     "evalue": "No random choice or generative function call at address Θ",
     "output_type": "error",
     "traceback": [
      "No random choice or generative function call at address Θ",
      "",
      "Stacktrace:",
      " [1] error(::String) at .\\error.jl:33",
      " [2] _getindex(::Gen.DynamicDSLTrace{DynamicDSLFunction{Any}}, ::Trie{Any,Gen.ChoiceOrCallRecord}, ::Symbol) at C:\\Users\\jbere\\.julia\\packages\\Gen\\5JiNL\\src\\dynamic\\trace.jl:204",
      " [3] getindex(::Gen.DynamicDSLTrace{DynamicDSLFunction{Any}}, ::Symbol) at C:\\Users\\jbere\\.julia\\packages\\Gen\\5JiNL\\src\\dynamic\\trace.jl:209",
      " [4] plot_many(::Int64) at .\\In[40]:13",
      " [5] top-level scope at .\\In[40]:24"
     ]
    }
   ],
   "source": [
    "#Uncertainty Plotting\n",
    "x_grid = zeros((20000,2));\n",
    "for i=1:20000\n",
    "    x_grid[i,:] = rand(1,2)\n",
    "end\n",
    "x_grid2 = transpose(x_grid);\n",
    "print(size(x_grid2))\n",
    "print(size(data))\n",
    "\n",
    "function plot_many(index)\n",
    "    obs_sample = choicemap()::ChoiceMap\n",
    "    obs_sample[:k] = traces[index][:k]\n",
    "    obs_sample[:Θ] = traces[index][:Θ]\n",
    "    (trace_pred, _) = generate(classifier, (x_grid2,), obs_sample)\n",
    "    #predict_scores = [trace_pred[(:y,i)] for i=1:length(x_grid[:,1])]\n",
    "    predict_scores = trace_pred[:y]\n",
    "    predict_labels = data_labeller(predict_scores)\n",
    "    plot_data(x_grid, predict_labels, 0.002)\n",
    "end\n",
    "\n",
    "\n",
    "for i=1:300\n",
    "    index = rand((1000,30000))\n",
    "    plot_many(index)\n",
    "end\n",
    "\n",
    "#index += 10\n",
    "#print(index)\n",
    "\n",
    "#plt.title(\"Basic Uncertainty Visualization: RJMCMC-HMC\");"
   ]
  },
  {
   "cell_type": "code",
   "execution_count": 112,
   "metadata": {},
   "outputs": [
    {
     "name": "stdout",
     "output_type": "stream",
     "text": [
      "true\n",
      "false\n",
      "1.6487212707001282"
     ]
    }
   ],
   "source": [
    "@gen function test()\n",
    "    x ~ bernoulli(0.9)\n",
    "    y ~ normal(x,1)\n",
    "    return x\n",
    "end\n",
    "\n",
    "@gen function test2()\n",
    "    x ~ bernoulli(0.1)\n",
    "    y ~ normal(x,1)\n",
    "    return x\n",
    "end\n",
    "\n",
    "obs_test = choicemap()::ChoiceMap\n",
    "obs_test[:y] = 1\n",
    "\n",
    "\n",
    "\n",
    "(z1, weight1) = generate(test, (), obs_test)\n",
    "println(z1[:x])\n",
    "#println(Distributions.logpdf(Normal(0,1),z1[:x]))\n",
    "s1 = (get_score(z1))\n",
    "\n",
    "(z2, weight2) = generate(test2, (), obs_test)\n",
    "println(z2[:x])\n",
    "#println(Distributions.logpdf(Normal(0,1),z1[:x]))\n",
    "s2 = (get_score(z2))\n",
    "\n",
    "print(exp(s1)/exp(s2))"
   ]
  }
 ],
 "metadata": {
  "kernelspec": {
   "display_name": "Julia 1.4.2",
   "language": "julia",
   "name": "julia-1.4"
  },
  "language_info": {
   "file_extension": ".jl",
   "mimetype": "application/julia",
   "name": "julia",
   "version": "1.4.2"
  }
 },
 "nbformat": 4,
 "nbformat_minor": 4
}