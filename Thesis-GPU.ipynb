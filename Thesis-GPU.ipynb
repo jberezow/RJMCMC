{
 "cells": [
  {
   "cell_type": "code",
   "execution_count": 1,
   "metadata": {
    "scrolled": true
   },
   "outputs": [
    {
     "name": "stderr",
     "output_type": "stream",
     "text": [
      "┌ Warning: `haskey(::TargetIterator, name::String)` is deprecated, use `Target(; name = name) !== nothing` instead.\n",
      "│   caller = llvm_compat(::VersionNumber) at compatibility.jl:176\n",
      "└ @ CUDAnative C:\\Users\\jbere\\.julia\\packages\\CUDAnative\\ierw8\\src\\compatibility.jl:176\n"
     ]
    }
   ],
   "source": [
    "#Libraries\n",
    "using Gen\n",
    "using PyPlot\n",
    "using Distributions\n",
    "using LinearAlgebra\n",
    "using Flux\n",
    "#using ProgressMeter\n",
    "using CUDA\n",
    "using Test\n",
    "using BenchmarkTools;"
   ]
  },
  {
   "cell_type": "code",
   "execution_count": 2,
   "metadata": {},
   "outputs": [
    {
     "name": "stdout",
     "output_type": "stream",
     "text": [
      "4\n"
     ]
    },
    {
     "name": "stderr",
     "output_type": "stream",
     "text": [
      "┌ Warning: `haskey(::TargetIterator, name::String)` is deprecated, use `Target(; name = name) !== nothing` instead.\n",
      "│   caller = llvm_compat(::VersionNumber) at compatibility.jl:176\n",
      "└ @ CUDA C:\\Users\\jbere\\.julia\\packages\\CUDA\\5t6R9\\deps\\compatibility.jl:176\n"
     ]
    },
    {
     "data": {
      "text/plain": [
       "true"
      ]
     },
     "execution_count": 2,
     "metadata": {},
     "output_type": "execute_result"
    }
   ],
   "source": [
    "println(Threads.nthreads())\n",
    "has_cuda_gpu()"
   ]
  },
  {
   "cell_type": "code",
   "execution_count": 3,
   "metadata": {},
   "outputs": [],
   "source": [
    "#Hyperparameters\n",
    "n = 10\n",
    "N = 40\n",
    "σₐ = 0.02\n",
    "k_range = 4\n",
    "k_list = [i for i in 1:k_range];"
   ]
  },
  {
   "cell_type": "code",
   "execution_count": 18,
   "metadata": {},
   "outputs": [],
   "source": [
    "#Functions\n",
    "function plot_data(data,classes,alpha=1.0)\n",
    "    markers = [\"o\",\"*\"]\n",
    "    colors = [\"blue\",\"green\"]\n",
    "    for i=1:2\n",
    "        mask = [classes[j] == i for j in 1:length(classes)]\n",
    "        scatter(data[:,1][mask],data[:,2][mask],c=colors[i],alpha=alpha,marker=markers[i],zorder=3)\n",
    "    end\n",
    "end;\n",
    "\n",
    "function unpack(Θ,k)\n",
    "    m = length(Θ)\n",
    "    h = 2*k\n",
    "    Wₕ = reshape(Θ[1:h], k, 2);   \n",
    "    bₕ = reshape(Θ[h+1:h+k], k)\n",
    "    #bₕ = reshape(zeros(k), k)\n",
    "    \n",
    "    Wₒ = reshape(Θ[h+k+1:m-1], 1, k);\n",
    "    bₒ = Θ[m]\n",
    "    #bₒ = 0.0\n",
    "      \n",
    "    return Wₕ, bₕ, Wₒ, bₒ\n",
    "end\n",
    "\n",
    "function data_labeller(y::CuArray)\n",
    "    labels = [y[i] > 0.5 ? 2 : 1 for i=1:length(y)]\n",
    "    return labels\n",
    "end\n",
    "\n",
    "mₖ(k) = k*4 + 1;"
   ]
  },
  {
   "cell_type": "code",
   "execution_count": 5,
   "metadata": {},
   "outputs": [
    {
     "name": "stderr",
     "output_type": "stream",
     "text": [
      "┌ Warning: `Target(triple::String)` is deprecated, use `Target(; triple = triple)` instead.\n",
      "│   caller = ip:0x0\n",
      "└ @ Core :-1\n"
     ]
    },
    {
     "data": {
      "image/png": "[encoded data removed]",
      "text/plain": [
       "Figure(PyObject <Figure size 640x480 with 1 Axes>)"
      ]
     },
     "metadata": {},
     "output_type": "display_data"
    },
    {
     "name": "stderr",
     "output_type": "stream",
     "text": [
      "┌ Warning: Performing scalar operations on GPU arrays: This is very slow, consider disallowing these operations with `allowscalar(false)`\n",
      "└ @ GPUArrays C:\\Users\\jbere\\.julia\\packages\\GPUArrays\\JqOUg\\src\\host\\indexing.jl:43\n"
     ]
    }
   ],
   "source": [
    "#Generate XOR Data\n",
    "function real_data(N::Int, modes::Int, σ::Float64)\n",
    "    μ₁ = [0.25, 0.25]\n",
    "    μ₂ = [0.25, 0.75]\n",
    "    μ₃ = [0.75, 0.75]\n",
    "    μ₄ = [0.75, 0.25]\n",
    "    #μ₅ = [1.25, 1.25]\n",
    "    #μ₆ = [1.25, 1.75]\n",
    "    #μ₇ = [1.75, 1.75]\n",
    "    #μ₈ = [1.75, 1.25]\n",
    "    μ = [μ₁, μ₂, μ₃, μ₄]\n",
    "    Σ = [[σ, 0] [0, σ]]\n",
    "    \n",
    "    all_samples = CUDA.zeros(Float64, (N*modes, 2))\n",
    "    classes = zeros(Int, (N*modes))\n",
    "    \n",
    "    for i = 1:modes\n",
    "        dist = MvNormal(μ[i], Σ)\n",
    "        sample = rand(dist, N)::Matrix\n",
    "        #scatter(sample[1,:],sample[2,:])\n",
    "        all_samples[(i-1)*N+1:i*N,:] = transpose(sample)\n",
    "        classes[(i-1)*N+1:i*N] = fill(i, N)\n",
    "        classes = float(classes)\n",
    "    end\n",
    "    return all_samples, classes\n",
    "end\n",
    "    \n",
    "data_raw, classes = real_data(Int(N/4), 4, σₐ);\n",
    "classes = [(i+1) % 2 + 1 for i in classes]\n",
    "\n",
    "plot_data(data_raw,classes)\n",
    "data = transpose(data_raw)\n",
    "size(data);"
   ]
  },
  {
   "cell_type": "code",
   "execution_count": 19,
   "metadata": {},
   "outputs": [
    {
     "data": {
      "image/png": "[encoded data removed]",
      "text/plain": [
       "Figure(PyObject <Figure size 640x480 with 1 Axes>)"
      ]
     },
     "metadata": {},
     "output_type": "display_data"
    }
   ],
   "source": [
    "#Bayesian Neural Net\n",
    "function G(x, Θ::AbstractVector, k::Int)\n",
    "    if(typeof(x) == Float64)\n",
    "        x = [x]\n",
    "    end\n",
    "    W₁, b₁, W₂, b₂ = unpack(Θ,k)\n",
    "    nn = Chain(fmap(cu, Dense(W₁, b₁, σ)),\n",
    "               fmap(cu, Dense(W₂, [b₂])))\n",
    "    return nn(x)\n",
    "end;\n",
    "\n",
    "@dist k_count(r,p,min) = neg_binom(r,p) + 1\n",
    "\n",
    "@gen function classifier(x::Array{Float64})\n",
    "    σₖ = 100.0::Float64\n",
    "    \n",
    "    k ~ uniform_discrete(1,k_range) #Number of hidden nodes\n",
    "    #k ~ k_count(1,0.5,1) #Shifted Negative Binomial\n",
    "    #println(k)\n",
    "    \n",
    "    # Create the weight and bias vector.\n",
    "    m = mₖ(k)\n",
    "    μ = ones(m).*0\n",
    "    Σ = Diagonal([σₖ for i=1:m])\n",
    "    Θ ~ mvnormal(μ,Σ) #Coefficients of the polynomial\n",
    "    \n",
    "    #Return Network Scores for X\n",
    "    scores = Flux.σ.(G(x,Θ,k))\n",
    "    \n",
    "    #Logistic Regression Likelihood\n",
    "    y = zeros(length(x[1,:])) #Array to fill with class labels\n",
    "    for j=1:length(x[1,:])\n",
    "        y[j] = @trace(normal(scores[j]*1 + (1-scores[j])*0, 0.05), (:y,j))\n",
    "    end\n",
    "    return scores\n",
    "    \n",
    "end;\n",
    "\n",
    "predictions = classifier(data)\n",
    "#predictions = predictions |> cpu \n",
    "preds = data_labeller(predictions)\n",
    "plot_data(data_raw,preds)"
   ]
  },
  {
   "cell_type": "code",
   "execution_count": 7,
   "metadata": {},
   "outputs": [],
   "source": [
    "#Register Observed Data - Bernoulli\n",
    "obs_master = choicemap()::ChoiceMap\n",
    "for j in 1:length(classes)\n",
    "    obs_master[(:y, j)] = classes[j] - 1\n",
    "end;\n",
    "obs = obs_master;"
   ]
  },
  {
   "cell_type": "code",
   "execution_count": 22,
   "metadata": {},
   "outputs": [
    {
     "data": {
      "image/png": "[encoded data removed]",
      "text/plain": [
       "Figure(PyObject <Figure size 640x480 with 1 Axes>)"
      ]
     },
     "metadata": {},
     "output_type": "display_data"
    },
    {
     "name": "stdout",
     "output_type": "stream",
     "text": [
      "  11.179 ms (1975 allocations: 72.70 KiB)\n",
      "681\n"
     ]
    }
   ],
   "source": [
    "#Plot of Log Likelihood Scores\n",
    "scores = []\n",
    "accs = []\n",
    "ks = []\n",
    "(best_trace,) = generate(classifier, (data,), obs)\n",
    "best_score = get_score(best_trace)/length(classes)\n",
    "best_Θ = best_trace[:Θ]\n",
    "best_k = best_trace[:k]\n",
    "\n",
    "best_pred_y = G(data,best_Θ,best_k)\n",
    "#best_pred_y = best_pred_y |> cpu\n",
    "best_pred_labels = data_labeller(best_pred_y)\n",
    "best_acc = sum([best_trace[(:y,i)] == best_pred_labels[i] for i=1:length(classes)])/length(classes)\n",
    "\n",
    "function likelihood!(best_acc)\n",
    "    #for i in 1:2\n",
    "    (trace,) = generate(classifier, (data,), obs)\n",
    "\n",
    "    Θ = trace[:Θ]\n",
    "    k = trace[:k]\n",
    "    pred_y = G(data,Θ,k)\n",
    "    #pred_y = pred_y |> cpu\n",
    "    pred_labels = data_labeller(pred_y)\n",
    "\n",
    "    acc = sum([classes[i] == pred_labels[i] for i=1:length(classes)])\n",
    "    score = get_score(trace)/length(classes)\n",
    "    #println(score)\n",
    "    if acc > best_acc\n",
    "        best_score = score\n",
    "        best_trace = trace\n",
    "        best_acc = acc\n",
    "        best_pred_labels = pred_labels\n",
    "    end\n",
    "    push!(scores,score)\n",
    "    push!(accs,acc)\n",
    "    push!(ks, k)\n",
    "    #end\n",
    "end\n",
    "\n",
    "@btime for i=1:1\n",
    "    likelihood!(best_acc)\n",
    "end\n",
    "println(length(scores))\n",
    "\n",
    "scatter(accs,scores)\n",
    "plt.title(\"Comparing Classifier Accuracy to Log Likelihood\")\n",
    "plt.xlabel(\"Classifier Accuracy\")\n",
    "plt.ylabel(\"Log Likelihood\");"
   ]
  },
  {
   "cell_type": "code",
   "execution_count": null,
   "metadata": {},
   "outputs": [],
   "source": [
    "#Plot of Log Likelihood Scores\n",
    "scores = []\n",
    "accs = []\n",
    "ks = []\n",
    "(best_trace,) = generate(classifier, (data,), obs)\n",
    "best_score = get_score(best_trace)/length(classes)\n",
    "best_Θ = best_trace[:Θ]\n",
    "best_k = best_trace[:k]\n",
    "\n",
    "best_pred_y = G(data,best_Θ,best_k)\n",
    "best_pred_y = best_pred_y |> cpu\n",
    "best_pred_labels = data_labeller(best_pred_y)\n",
    "best_acc = sum([best_trace[(:y,i)] == best_pred_labels[i] for i=1:length(classes)])/length(classes)\n",
    "\n",
    "function likelihood!(best_acc)\n",
    "    #for i in 1:2\n",
    "    (trace,) = generate(classifier, (data,), obs)\n",
    "\n",
    "    Θ = trace[:Θ]\n",
    "    k = trace[:k]\n",
    "    pred_y = G(data,Θ,k)\n",
    "    pred_y = pred_y |> cpu\n",
    "    pred_labels = data_labeller(pred_y)\n",
    "\n",
    "    acc = sum([classes[i] == pred_labels[i] for i=1:length(classes)])\n",
    "    score = get_score(trace)/length(classes)\n",
    "    #println(score)\n",
    "    if acc > best_acc\n",
    "        best_score = score\n",
    "        best_trace = trace\n",
    "        best_acc = acc\n",
    "        best_pred_labels = pred_labels\n",
    "    end\n",
    "    push!(scores,score)\n",
    "    push!(accs,acc)\n",
    "    push!(ks, k)\n",
    "    #end\n",
    "end\n",
    "\n",
    "@btime for i=1:100\n",
    "    likelihood!(best_acc)\n",
    "end\n",
    "println(length(scores))\n",
    "\n",
    "scatter(accs,scores)\n",
    "plt.title(\"Comparing Classifier Accuracy to Log Likelihood\")\n",
    "plt.xlabel(\"Classifier Accuracy\")\n",
    "plt.ylabel(\"Log Likelihood\");"
   ]
  },
  {
   "cell_type": "code",
   "execution_count": null,
   "metadata": {},
   "outputs": [],
   "source": [
    "traces = []\n",
    "acc = []\n",
    "ks = []\n",
    "\n",
    "function within_dimension(trace, iters)\n",
    "    for i=1:iters\n",
    "        (trace, accepted) = hmc(trace, select(:Θ), L=10, eps=0.03, check=false, observations=obs)\n",
    "        #println(\"Within dimension: $(trace[:k])\")\n",
    "        push!(traces, trace)\n",
    "        push!(acc, accepted)\n",
    "    end\n",
    "    return trace\n",
    "end\n",
    "\n",
    "function across_dimension(trace, iters, obs)\n",
    "    selection = select(:Θ,:k)\n",
    "    \n",
    "    args = get_args(trace)\n",
    "    argdiffs = map((_) -> NoChange(), args)\n",
    "    (new_trace, weight) = regenerate(trace, args, argdiffs, selection)\n",
    "    test = true\n",
    "    \n",
    "    for i=1:500\n",
    "        (new_trace, accepted) = hmc(new_trace, select(:Θ), L=10, eps=0.01, check=false, observations=obs)\n",
    "        accepted && (test = false)\n",
    "    end\n",
    "    \n",
    "    test && println(\"Nothing accepted\")\n",
    "    \n",
    "    score1 = exp(get_score(trace)/length(data))\n",
    "    score2 = exp(get_score(new_trace)/length(data))\n",
    "    score = score2/score1\n",
    "    #println(score)\n",
    "    \n",
    "    if rand(Uniform(0,1)) < score\n",
    "        accepted = true\n",
    "        trace = new_trace\n",
    "        new_k = trace[:k]\n",
    "        println(\"New k accepted! Current k: $(new_k)\")\n",
    "        push!(acc,true)\n",
    "    else\n",
    "        accepted = false\n",
    "        push!(acc,false)\n",
    "    end\n",
    "    \n",
    "    obs = obs_master\n",
    "    obs[:k] = trace[:k]\n",
    "        \n",
    "    push!(traces, trace)\n",
    "    push!(acc, accepted)\n",
    "    return trace, trace[:k]\n",
    "end\n",
    "\n",
    "function rjmcmc(starting_trace, iters)\n",
    "    trace = starting_trace\n",
    "    k = obs[:k]\n",
    "    println(\"Beginning RJMCMC. Starting k: $k\")\n",
    "    #@showprogress 1 \"Sampling...\" for i = 1:iters\n",
    "    for i=1:iters\n",
    "        if i%500 == 0\n",
    "            println(\"Epoch $i Acceptance Prob: $(sum(acc)/length(acc))\")\n",
    "        end\n",
    "        \n",
    "        if rand(Uniform(0,1)) > 0.95\n",
    "            (trace, k) = across_dimension(trace, 1, obs)\n",
    "        else\n",
    "            (trace) = within_dimension(trace, 1)\n",
    "        end\n",
    "        push!(ks, k)\n",
    "    end\n",
    "    println(\"Finished\")\n",
    "end\n",
    " \n",
    "starting_trace = best_trace\n",
    "#(starting_trace,) = generate(classifier, (data,), obs)\n",
    "obs[:k] = starting_trace[:k]\n",
    "rjmcmc(starting_trace,5000);"
   ]
  },
  {
   "cell_type": "code",
   "execution_count": 9,
   "metadata": {},
   "outputs": [
    {
     "data": {
      "text/plain": [
       "\u001b[32m\u001b[1mTest Passed\u001b[22m\u001b[39m"
      ]
     },
     "execution_count": 9,
     "metadata": {},
     "output_type": "execute_result"
    }
   ],
   "source": [
    "function sequential_add!(y, x)\n",
    "    for i in eachindex(y, x)\n",
    "        @inbounds y[i] += x[i]\n",
    "    end\n",
    "    return nothing\n",
    "end\n",
    "\n",
    "fill!(y, 2)\n",
    "sequential_add!(y, x)\n",
    "@test all(y .== 3.0f0)"
   ]
  },
  {
   "cell_type": "code",
   "execution_count": 10,
   "metadata": {},
   "outputs": [
    {
     "data": {
      "text/plain": [
       "\u001b[32m\u001b[1mTest Passed\u001b[22m\u001b[39m"
      ]
     },
     "execution_count": 10,
     "metadata": {},
     "output_type": "execute_result"
    }
   ],
   "source": [
    "function parallel_add!(y, x)\n",
    "    Threads.@threads for i in eachindex(y, x)\n",
    "        @inbounds y[i] += x[i]\n",
    "    end\n",
    "    return nothing\n",
    "end\n",
    "\n",
    "fill!(y, 2)\n",
    "parallel_add!(y, x)\n",
    "@test all(y .== 3.0f0)"
   ]
  },
  {
   "cell_type": "code",
   "execution_count": 11,
   "metadata": {},
   "outputs": [
    {
     "name": "stdout",
     "output_type": "stream",
     "text": [
      "  253.199 μs (0 allocations: 0 bytes)\n"
     ]
    }
   ],
   "source": [
    "@btime sequential_add!($y, $x)"
   ]
  },
  {
   "cell_type": "code",
   "execution_count": 12,
   "metadata": {},
   "outputs": [
    {
     "name": "stdout",
     "output_type": "stream",
     "text": [
      "  177.000 μs (23 allocations: 3.34 KiB)\n"
     ]
    }
   ],
   "source": [
    "@btime parallel_add!($y, $x)"
   ]
  },
  {
   "cell_type": "code",
   "execution_count": 14,
   "metadata": {},
   "outputs": [
    {
     "name": "stderr",
     "output_type": "stream",
     "text": [
      "┌ Warning: `Target(triple::String)` is deprecated, use `Target(; triple = triple)` instead.\n",
      "│   caller = ip:0x0\n",
      "└ @ Core :-1\n"
     ]
    },
    {
     "data": {
      "text/plain": [
       "\u001b[32m\u001b[1mTest Passed\u001b[22m\u001b[39m"
      ]
     },
     "execution_count": 14,
     "metadata": {},
     "output_type": "execute_result"
    }
   ],
   "source": [
    "#GPUS\n",
    "x_d = CUDA.fill(1.0f0, N)  # a vector stored on the GPU filled with 1.0 (Float32)\n",
    "y_d = CUDA.fill(2.0f0, N)  # a vector stored on the GPU filled with 2.0\n",
    "y_d .+= x_d\n",
    "@test all(Array(y_d) .== 3.0f0)"
   ]
  },
  {
   "cell_type": "code",
   "execution_count": 19,
   "metadata": {},
   "outputs": [
    {
     "name": "stdout",
     "output_type": "stream",
     "text": [
      "  197.200 μs (69 allocations: 1.88 KiB)\n"
     ]
    }
   ],
   "source": [
    "function add_broadcast!(y, x)\n",
    "    CUDA.@sync y .+= x\n",
    "    return\n",
    "end\n",
    "\n",
    "@btime add_broadcast!($y_d, $x_d)"
   ]
  },
  {
   "cell_type": "code",
   "execution_count": 17,
   "metadata": {},
   "outputs": [
    {
     "data": {
      "text/plain": [
       "\u001b[32m\u001b[1mTest Passed\u001b[22m\u001b[39m"
      ]
     },
     "execution_count": 17,
     "metadata": {},
     "output_type": "execute_result"
    }
   ],
   "source": [
    "function gpu_add1!(y, x)\n",
    "    for i = 1:length(y)\n",
    "        @inbounds y[i] += x[i]\n",
    "    end\n",
    "    return nothing\n",
    "end\n",
    "\n",
    "fill!(y_d, 2)\n",
    "@cuda gpu_add1!(y_d, x_d)\n",
    "@test all(Array(y_d) .== 3.0f0)"
   ]
  },
  {
   "cell_type": "code",
   "execution_count": 18,
   "metadata": {},
   "outputs": [
    {
     "name": "stdout",
     "output_type": "stream",
     "text": [
      "  146.722 ms (47 allocations: 1.23 KiB)\n"
     ]
    }
   ],
   "source": [
    "function bench_gpu1!(y, x)\n",
    "    CUDA.@sync begin\n",
    "        @cuda gpu_add1!(y, x)\n",
    "    end\n",
    "end\n",
    "\n",
    "@btime bench_gpu1!($y_d, $x_d)"
   ]
  },
  {
   "cell_type": "code",
   "execution_count": 20,
   "metadata": {},
   "outputs": [
    {
     "data": {
      "text/plain": [
       "\u001b[32m\u001b[1mTest Passed\u001b[22m\u001b[39m"
      ]
     },
     "execution_count": 20,
     "metadata": {},
     "output_type": "execute_result"
    }
   ],
   "source": [
    "function gpu_add2!(y, x)\n",
    "    index = threadIdx().x    # this example only requires linear indexing, so just use `x`\n",
    "    stride = blockDim().x\n",
    "    for i = index:stride:length(y)\n",
    "        @inbounds y[i] += x[i]\n",
    "    end\n",
    "    return nothing\n",
    "end\n",
    "\n",
    "fill!(y_d, 2)\n",
    "@cuda threads=256 gpu_add2!(y_d, x_d)\n",
    "@test all(Array(y_d) .== 3.0f0)"
   ]
  },
  {
   "cell_type": "code",
   "execution_count": 22,
   "metadata": {},
   "outputs": [
    {
     "name": "stdout",
     "output_type": "stream",
     "text": [
      "  1.322 ms (47 allocations: 1.23 KiB)\n"
     ]
    }
   ],
   "source": [
    "function bench_gpu2!(y, x)\n",
    "    CUDA.@sync begin\n",
    "        @cuda threads=256 gpu_add2!(y, x)\n",
    "    end\n",
    "end\n",
    "\n",
    "@btime bench_gpu2!($y_d, $x_d)"
   ]
  },
  {
   "cell_type": "code",
   "execution_count": 23,
   "metadata": {},
   "outputs": [
    {
     "name": "stdout",
     "output_type": "stream",
     "text": [
      "  177.900 μs (52 allocations: 1.31 KiB)\n"
     ]
    }
   ],
   "source": [
    "function gpu_add3!(y, x)\n",
    "    index = (blockIdx().x - 1) * blockDim().x + threadIdx().x\n",
    "    stride = blockDim().x * gridDim().x\n",
    "    for i = index:stride:length(y)\n",
    "        @inbounds y[i] += x[i]\n",
    "    end\n",
    "    return\n",
    "end\n",
    "\n",
    "numblocks = ceil(Int, N/256)\n",
    "\n",
    "fill!(y_d, 2)\n",
    "@cuda threads=256 blocks=numblocks gpu_add3!(y_d, x_d)\n",
    "@test all(Array(y_d) .== 3.0f0)\n",
    "\n",
    "function bench_gpu3!(y, x)\n",
    "    numblocks = ceil(Int, length(y)/256)\n",
    "    CUDA.@sync begin\n",
    "        @cuda threads=256 blocks=numblocks gpu_add3!(y, x)\n",
    "    end\n",
    "end\n",
    "\n",
    "@btime bench_gpu3!($y_d, $x_d)"
   ]
  },
  {
   "cell_type": "code",
   "execution_count": 24,
   "metadata": {},
   "outputs": [
    {
     "name": "stdout",
     "output_type": "stream",
     "text": [
      "thread 1, block 16\r\n",
      "thread 2, block 16\r\n",
      "thread 3, block 16\r\n",
      "thread 4, block 16\r\n",
      "thread 5, block 16\r\n",
      "thread 6, block 16\r\n",
      "thread 7, block 16\r\n",
      "thread 8, block 16\r\n",
      "thread 9, block 16\r\n",
      "thread 10, block 16\r\n",
      "thread 11, block 16\r\n",
      "thread 12, block 16\r\n",
      "thread 13, block 16\r\n",
      "thread 14, block 16\r\n",
      "thread 15, block 16\r\n",
      "thread 16, block 16\r\n"
     ]
    }
   ],
   "source": [
    "function gpu_add2_print!(y, x)\n",
    "    index = threadIdx().x    # this example only requires linear indexing, so just use `x`\n",
    "    stride = blockDim().x\n",
    "    @cuprintln(\"thread $index, block $stride\")\n",
    "    for i = index:stride:length(y)\n",
    "        @inbounds y[i] += x[i]\n",
    "    end\n",
    "    return nothing\n",
    "end\n",
    "\n",
    "@cuda threads=16 gpu_add2_print!(y_d, x_d)\n",
    "synchronize()"
   ]
  }
 ],
 "metadata": {
  "kernelspec": {
   "display_name": "Julia 1.4.2",
   "language": "julia",
   "name": "julia-1.4"
  },
  "language_info": {
   "file_extension": ".jl",
   "mimetype": "application/julia",
   "name": "julia",
   "version": "1.4.2"
  }
 },
 "nbformat": 4,
 "nbformat_minor": 4
}
