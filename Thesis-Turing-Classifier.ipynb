{
 "cells": [
  {
   "cell_type": "code",
   "execution_count": null,
   "metadata": {},
   "outputs": [],
   "source": [
    "#Libraries\n",
    "using Turing\n",
    "using PyPlot\n",
    "using Distributions\n",
    "using LinearAlgebra\n",
    "using Flux\n",
    "using Distances\n",
    "using Random\n",
    "using Plots\n",
    "using VectorizedRoutines;"
   ]
  },
  {
   "cell_type": "code",
   "execution_count": null,
   "metadata": {},
   "outputs": [],
   "source": [
    "#Hyperparameters\n",
    "n = 200\n",
    "N = n*4\n",
    "σₐ = 0.02\n",
    "σᵧ = 1.0 #Likelihood variance\n",
    "k_range = 12\n",
    "k_list = [1, 2, 3, 4, 5, 6, 7, 8, 9, 10, 11, 12] #November 3\n",
    "k_list_lite = [i for i in 1:k_range];\n",
    "\n",
    "#Functions\n",
    "function plot_data(data,classes,alpha=1.0)\n",
    "    markers = [\"o\",\"*\"]\n",
    "    colors = [\"blue\",\"green\"]\n",
    "    for i=1:2\n",
    "        mask = [classes[j] == i for j in 1:length(classes)]\n",
    "        scatter(data[:,1][mask],data[:,2][mask],c=colors[i],alpha=alpha,marker=markers[i],zorder=3)\n",
    "    end\n",
    "end;\n",
    "\n",
    "function unpack(Θ,k)\n",
    "    m = length(Θ)\n",
    "    h = 2*k\n",
    "    Wₕ = reshape(Θ[1:h], k, 2);   \n",
    "    bₕ = reshape(Θ[h+1:h+k], k)\n",
    "    #bₕ = reshape(zeros(k), k)\n",
    "    \n",
    "    Wₒ = reshape(Θ[h+k+1:m-1], 1, k);\n",
    "    bₒ = Θ[m]\n",
    "    #bₒ = 0.0\n",
    "      \n",
    "    return Wₕ, bₕ, Wₒ, bₒ\n",
    "end\n",
    "\n",
    "function sample_data(x, y, n=N)\n",
    "    perm = randperm(length(x[1,:]))[1:n]\n",
    "    x_new1 = [x[1,perm[i]] for i=1:n]\n",
    "    x_new2 = [x[2,perm[i]] for i=1:n]\n",
    "    x_new = hcat(x_new1,x_new2)\n",
    "    return x_new, y[perm]\n",
    "end\n",
    "\n",
    "function data_labeller(y::Array{Float64})\n",
    "    labels = [y[i] > 0.5 ? 2 : 1 for i=1:length(y)]\n",
    "    return labels\n",
    "end\n",
    "\n",
    "mₖ(k) = k*4 + 1;"
   ]
  },
  {
   "cell_type": "code",
   "execution_count": null,
   "metadata": {},
   "outputs": [],
   "source": []
  }
 ],
 "metadata": {
  "kernelspec": {
   "display_name": "Julia 1.4.2",
   "language": "julia",
   "name": "julia-1.4"
  },
  "language_info": {
   "file_extension": ".jl",
   "mimetype": "application/julia",
   "name": "julia",
   "version": "1.4.2"
  }
 },
 "nbformat": 4,
 "nbformat_minor": 4
}
