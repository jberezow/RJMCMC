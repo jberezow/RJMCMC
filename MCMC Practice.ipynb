{
 "cells": [
  {
   "cell_type": "markdown",
   "metadata": {},
   "source": [
    "70 colored balls are placed in an urn, 10 for each of the seven rainbow colors. What is the expected number of distinct colors in 20 randomly picked balls?\n",
    "\n",
    "Give your answer with nine digits after the decimal point (a.bcdefghij)."
   ]
  },
  {
   "cell_type": "code",
   "execution_count": 46,
   "metadata": {},
   "outputs": [
    {
     "ename": "MethodError",
     "evalue": "MethodError: no method matching traceat(::Gen.GFProposeState, ::typeof(rand), ::Tuple{Multinomial{Float64,Array{Float64,1}}}, ::Symbol)\nClosest candidates are:\n  traceat(::Gen.GFProposeState, !Matched::Gen.Distribution{T}, ::Any, ::Any) where T at /home/jberez/.julia/packages/Gen/5JiNL/src/dynamic/propose.jl:14\n  traceat(::Gen.GFProposeState, !Matched::GenerativeFunction{T,U}, ::Any, ::Any) where {T, U} at /home/jberez/.julia/packages/Gen/5JiNL/src/dynamic/propose.jl:33\n  traceat(!Matched::Gen.GFSimulateState, !Matched::Gen.Distribution{T}, ::Any, ::Any) where T at /home/jberez/.julia/packages/Gen/5JiNL/src/dynamic/simulate.jl:14\n  ...",
     "output_type": "error",
     "traceback": [
      "MethodError: no method matching traceat(::Gen.GFProposeState, ::typeof(rand), ::Tuple{Multinomial{Float64,Array{Float64,1}}}, ::Symbol)\nClosest candidates are:\n  traceat(::Gen.GFProposeState, !Matched::Gen.Distribution{T}, ::Any, ::Any) where T at /home/jberez/.julia/packages/Gen/5JiNL/src/dynamic/propose.jl:14\n  traceat(::Gen.GFProposeState, !Matched::GenerativeFunction{T,U}, ::Any, ::Any) where {T, U} at /home/jberez/.julia/packages/Gen/5JiNL/src/dynamic/propose.jl:33\n  traceat(!Matched::Gen.GFSimulateState, !Matched::Gen.Distribution{T}, ::Any, ::Any) where T at /home/jberez/.julia/packages/Gen/5JiNL/src/dynamic/simulate.jl:14\n  ...",
      "",
      "Stacktrace:",
      " [1] ##model#294(::Gen.GFProposeState, ::Int64) at ./In[46]:9",
      " [2] exec(::DynamicDSLFunction{Any}, ::Gen.GFProposeState, ::Tuple{Int64}) at /home/jberez/.julia/packages/Gen/5JiNL/src/dynamic/dynamic.jl:54",
      " [3] propose at /home/jberez/.julia/packages/Gen/5JiNL/src/dynamic/propose.jl:60 [inlined]",
      " [4] (::DynamicDSLFunction{Any})(::Int64) at /home/jberez/.julia/packages/Gen/5JiNL/src/dynamic/dynamic.jl:49",
      " [5] top-level scope at In[46]:11"
     ]
    }
   ],
   "source": [
    "using Gen\n",
    "using Distributions\n",
    "\n",
    "n = 70\n",
    "\n",
    "@gen function model(q)\n",
    "    p::Float64 = (1.0/7.0)\n",
    "    d = Multinomial(q, repeat([p]::Array{Float64}, 7))\n",
    "    single_draw = @trace(rand(d), :sample)\n",
    "end\n",
    "\n",
    "model(20)"
   ]
  },
  {
   "cell_type": "code",
   "execution_count": 59,
   "metadata": {},
   "outputs": [
    {
     "data": {
      "text/plain": [
       "70-element Array{Any,1}:\n",
       " 1\n",
       " 1\n",
       " 1\n",
       " 1\n",
       " 1\n",
       " 1\n",
       " 1\n",
       " 1\n",
       " 1\n",
       " 1\n",
       " 2\n",
       " 2\n",
       " 2\n",
       " ⋮\n",
       " 6\n",
       " 6\n",
       " 7\n",
       " 7\n",
       " 7\n",
       " 7\n",
       " 7\n",
       " 7\n",
       " 7\n",
       " 7\n",
       " 7\n",
       " 7"
      ]
     },
     "metadata": {},
     "output_type": "display_data"
    }
   ],
   "source": [
    "balls = []\n",
    "colours = [1, 2, 3, 4, 5, 6, 7]\n",
    "for j in colours\n",
    "    for i in 1:10\n",
    "        push!(balls,j)\n",
    "    end\n",
    "end\n",
    "display(balls)"
   ]
  },
  {
   "cell_type": "code",
   "execution_count": 128,
   "metadata": {},
   "outputs": [
    {
     "name": "stdout",
     "output_type": "stream",
     "text": [
      "6.8188736\n",
      "6.81883505\n",
      "6.8188381\n",
      "6.8188637\n",
      "6.81886726\n",
      "6.818871016666667\n",
      "6.818852857142857\n",
      "6.818835675\n",
      "6.8188347\n",
      "6.8187975\n"
     ]
    },
    {
     "data": {
      "text/plain": [
       "6.8187975"
      ]
     },
     "execution_count": 128,
     "metadata": {},
     "output_type": "execute_result"
    }
   ],
   "source": [
    "using Random \n",
    "\n",
    "function single_draw(balls)\n",
    "    selection = shuffle!(balls)\n",
    "    return(length(unique(selection[1:20])))\n",
    "end\n",
    "\n",
    "function multi_draw(draws)\n",
    "    total = 0\n",
    "    for i in 1:draws\n",
    "        total += single_draw(balls)\n",
    "        if i%10000000 == 0\n",
    "            println(total/i)\n",
    "        end\n",
    "    end\n",
    "    return(total/draws)\n",
    "end\n",
    "z = multi_draw(100000000)"
   ]
  },
  {
   "cell_type": "code",
   "execution_count": 140,
   "metadata": {},
   "outputs": [
    {
     "data": {
      "text/plain": [
       "4613732"
      ]
     },
     "metadata": {},
     "output_type": "display_data"
    }
   ],
   "source": [
    "F(n) = ((1+sqrt(big(5)))^n-(1-sqrt(big(5)))^n)/(sqrt(big(5))*big(2)^n)\n",
    "sum = 0\n",
    "for i in 1:33\n",
    "    x = Int(round(F(i)))\n",
    "    if x%2 == 0\n",
    "        sum += x\n",
    "    end\n",
    "end\n",
    "display(sum)"
   ]
  }
 ],
 "metadata": {
  "kernelspec": {
   "display_name": "Julia 1.4.2",
   "language": "julia",
   "name": "julia-1.4"
  },
  "language_info": {
   "file_extension": ".jl",
   "mimetype": "application/julia",
   "name": "julia",
   "version": "1.4.2"
  }
 },
 "nbformat": 4,
 "nbformat_minor": 4
}
