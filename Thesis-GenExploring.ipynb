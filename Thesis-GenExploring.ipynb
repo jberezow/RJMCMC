{
 "cells": [
  {
   "cell_type": "code",
   "execution_count": 1,
   "metadata": {},
   "outputs": [],
   "source": [
    "using Gen"
   ]
  },
  {
   "cell_type": "code",
   "execution_count": 3,
   "metadata": {},
   "outputs": [
    {
     "data": {
      "text/plain": [
       "0.52"
      ]
     },
     "execution_count": 3,
     "metadata": {},
     "output_type": "execute_result"
    }
   ],
   "source": [
    "@gen function poly_model(x_coordinates)\n",
    "    degree ~ uniform_discrete(0,4)\n",
    "    var ~ inv_gamma(1,1)\n",
    "    coefficients = [({(:c,i)} ~ normal(0,1)) for i in 0:degree]\n",
    "    for i=1:length(x_coordinates)\n",
    "        x = x_coordinates[i]\n",
    "        mu = coefficients' * x.^(0:degree)\n",
    "        {(:y, i)} ~ normal(mu, sqrt(var))\n",
    "    end\n",
    "end"
   ]
  },
  {
   "cell_type": "code",
   "execution_count": 22,
   "metadata": {},
   "outputs": [
    {
     "data": {
      "text/plain": [
       "0.49"
      ]
     },
     "execution_count": 22,
     "metadata": {},
     "output_type": "execute_result"
    }
   ],
   "source": [
    "x_coordinates = [0.0, 1.0, 2.0, 3.0]\n",
    "n = 100\n",
    "traces = [Gen.simulate(poly_model, (x_coordinates,)) for i in 1:n]\n",
    "\n",
    "g(trace) = trace[(:y,1)] > trace[(:y, 2)]\n",
    "estimate = sum([g(trace) for trace in traces]) / n"
   ]
  },
  {
   "cell_type": "code",
   "execution_count": 34,
   "metadata": {},
   "outputs": [
    {
     "data": {
      "text/plain": [
       "100-element Array{Int64,1}:\n",
       " 2\n",
       " 2\n",
       " 3\n",
       " 3\n",
       " 4\n",
       " 2\n",
       " 3\n",
       " 2\n",
       " 2\n",
       " 1\n",
       " 2\n",
       " 1\n",
       " 4\n",
       " ⋮\n",
       " 0\n",
       " 2\n",
       " 2\n",
       " 3\n",
       " 1\n",
       " 3\n",
       " 3\n",
       " 3\n",
       " 4\n",
       " 0\n",
       " 4\n",
       " 4"
      ]
     },
     "metadata": {},
     "output_type": "display_data"
    }
   ],
   "source": [
    "degrees = [trace[:degree] for trace in traces]\n",
    "display(degrees)"
   ]
  }
 ],
 "metadata": {
  "kernelspec": {
   "display_name": "Julia 1.4.2",
   "language": "julia",
   "name": "julia-1.4"
  },
  "language_info": {
   "file_extension": ".jl",
   "mimetype": "application/julia",
   "name": "julia",
   "version": "1.4.2"
  }
 },
 "nbformat": 4,
 "nbformat_minor": 4
}
