{
 "cells": [
  {
   "cell_type": "code",
   "execution_count": 1,
   "metadata": {},
   "outputs": [
    {
     "name": "stderr",
     "output_type": "stream",
     "text": [
      "┌ Warning: `haskey(::TargetIterator, name::String)` is deprecated, use `Target(; name = name) !== nothing` instead.\n",
      "│   caller = llvm_compat(::VersionNumber) at compatibility.jl:176\n",
      "└ @ CUDAnative C:\\Users\\jbere\\.julia\\packages\\CUDAnative\\ierw8\\src\\compatibility.jl:176\n"
     ]
    }
   ],
   "source": [
    "using PyPlot\n",
    "using Distributions\n",
    "using LinearAlgebra\n",
    "using Flux;"
   ]
  },
  {
   "cell_type": "code",
   "execution_count": 2,
   "metadata": {},
   "outputs": [],
   "source": [
    "#Hyperparameters\n",
    "n = 10\n",
    "N = 40\n",
    "σₐ = 0.001\n",
    "k_range = 6\n",
    "k_list = [1, 2, 3, 4, 5, 6, 7, 8, 9, 10, 11, 12] #November 3\n",
    "k_list_lite = [i for i in 1:k_range];"
   ]
  },
  {
   "cell_type": "code",
   "execution_count": 3,
   "metadata": {},
   "outputs": [],
   "source": [
    "#Functions\n",
    "function plot_data(data,classes,alpha=1.0)\n",
    "    markers = [\"o\",\"*\"]\n",
    "    colors = [\"blue\",\"green\"]\n",
    "    for i=1:2\n",
    "        mask = [classes[j] == i for j in 1:length(classes)]\n",
    "        scatter(data[:,1][mask],data[:,2][mask],c=colors[i],alpha=alpha,marker=markers[i],zorder=3)\n",
    "    end\n",
    "end;\n",
    "\n",
    "function unpack(Θ,k)\n",
    "    m = length(Θ)\n",
    "    h = 2*k\n",
    "    Wₕ = reshape(Θ[1:h], k, 2);   \n",
    "    bₕ = reshape(Θ[h+1:h+k], k)\n",
    "    #bₕ = reshape(zeros(k), k)\n",
    "    \n",
    "    Wₒ = reshape(Θ[h+k+1:m-1], 1, k);\n",
    "    bₒ = Θ[m]\n",
    "    #bₒ = 0.0\n",
    "      \n",
    "    return Wₕ, bₕ, Wₒ, bₒ\n",
    "end\n",
    "\n",
    "function data_labeller(y::Array{Float64})\n",
    "    labels = [y[i] > 0.5 ? 2 : 1 for i=1:length(y)]\n",
    "    return labels\n",
    "end\n",
    "\n",
    "mₖ(k) = k*4 + 1;"
   ]
  },
  {
   "cell_type": "code",
   "execution_count": 9,
   "metadata": {},
   "outputs": [
    {
     "data": {
      "image/png": "[encoded data removed]",
      "text/plain": [
       "Figure(PyObject <Figure size 640x480 with 1 Axes>)"
      ]
     },
     "metadata": {},
     "output_type": "display_data"
    }
   ],
   "source": [
    "#Scale up - Fixed Separable Data - Multi-XOR Data\n",
    "function real_data(N::Int, modes::Int, σ::Float64)\n",
    "    μ₁ = [0.25, 0.25]\n",
    "    μ₂ = [0.5, 0.125]\n",
    "    μ₃ = [0.25, 0.75]\n",
    "    μ₄ = [0.125, 0.50]\n",
    "    μ₅ = [0.75, 0.75]\n",
    "    μ₆ = [0.50, 0.875]\n",
    "    μ₇ = [0.75, 0.25]\n",
    "    μ₈ = [0.875, 0.50]\n",
    "    μ = [μ₁, μ₂, μ₃, μ₄, μ₅, μ₆, μ₇, μ₈]\n",
    "    Σ = [[σ, 0] [0, σ]]\n",
    "    \n",
    "    all_samples = zeros(Float64, (N*modes, 2))\n",
    "    classes = zeros(Int, (N*modes))\n",
    "    \n",
    "    for i = 1:modes\n",
    "        dist = MvNormal(μ[i], Σ)\n",
    "        sample = rand(dist, N)::Matrix\n",
    "        #scatter(sample[1,:],sample[2,:])\n",
    "        all_samples[(i-1)*N+1:i*N,:] = transpose(sample)\n",
    "        classes[(i-1)*N+1:i*N] = fill(i, N)\n",
    "        classes = float(classes)\n",
    "    end\n",
    "    return all_samples, classes\n",
    "end\n",
    "    \n",
    "data_raw, classes = real_data(Int(N/8), 8, σₐ);\n",
    "classes = [(i+1) % 2 + 1 for i in classes]\n",
    "y = classes\n",
    "\n",
    "plot_data(data_raw,classes)\n",
    "data = transpose(data_raw)\n",
    "x = data\n",
    "x_raw = data_raw\n",
    "size(data);"
   ]
  },
  {
   "cell_type": "code",
   "execution_count": 85,
   "metadata": {},
   "outputs": [
    {
     "data": {
      "text/plain": [
       "Chain(Dense(2, 4, relu), Dense(4, 1, σ))"
      ]
     },
     "execution_count": 85,
     "metadata": {},
     "output_type": "execute_result"
    }
   ],
   "source": [
    "#Neural Nets with Different k\n",
    "model1 = Chain(\n",
    "  Dense(2, 1, relu),\n",
    "  Dense(1, 1, σ))\n",
    "\n",
    "model2 = Chain(\n",
    "  Dense(2, 2, relu),\n",
    "  Dense(2, 1, σ))\n",
    "\n",
    "model3 = Chain(\n",
    "  Dense(2, 3, relu),\n",
    "  Dense(3, 1, σ))\n",
    "\n",
    "model4 = Chain(\n",
    "  Dense(2, 4, relu),\n",
    "  Dense(4, 1, σ))"
   ]
  },
  {
   "cell_type": "code",
   "execution_count": 90,
   "metadata": {},
   "outputs": [
    {
     "ename": "MethodError",
     "evalue": "MethodError: no method matching eps(::Array{Float32,2})\nClosest candidates are:\n  eps(!Matched::Dates.Time) at D:\\buildbot\\worker\\package_win64\\build\\usr\\share\\julia\\stdlib\\v1.4\\Dates\\src\\types.jl:387\n  eps(!Matched::Dates.Date) at D:\\buildbot\\worker\\package_win64\\build\\usr\\share\\julia\\stdlib\\v1.4\\Dates\\src\\types.jl:386\n  eps(!Matched::Dates.DateTime) at D:\\buildbot\\worker\\package_win64\\build\\usr\\share\\julia\\stdlib\\v1.4\\Dates\\src\\types.jl:385\n  ...",
     "output_type": "error",
     "traceback": [
      "MethodError: no method matching eps(::Array{Float32,2})\nClosest candidates are:\n  eps(!Matched::Dates.Time) at D:\\buildbot\\worker\\package_win64\\build\\usr\\share\\julia\\stdlib\\v1.4\\Dates\\src\\types.jl:387\n  eps(!Matched::Dates.Date) at D:\\buildbot\\worker\\package_win64\\build\\usr\\share\\julia\\stdlib\\v1.4\\Dates\\src\\types.jl:386\n  eps(!Matched::Dates.DateTime) at D:\\buildbot\\worker\\package_win64\\build\\usr\\share\\julia\\stdlib\\v1.4\\Dates\\src\\types.jl:385\n  ...",
      "",
      "Stacktrace:",
      " [1] _pullback at C:\\Users\\jbere\\.julia\\packages\\Zygote\\1GXzF\\src\\lib\\grad.jl:8 [inlined]",
      " [2] binarycrossentropy at C:\\Users\\jbere\\.julia\\packages\\Flux\\Fj3bt\\src\\layers\\stateless.jl:126 [inlined]",
      " [3] _pullback(::Zygote.Context, ::typeof(Flux.binarycrossentropy), ::Array{Float32,2}, ::Array{Float64,1}) at C:\\Users\\jbere\\.julia\\packages\\Zygote\\1GXzF\\src\\compiler\\interface2.jl:0",
      " [4] loss at .\\In[90]:8 [inlined]",
      " [5] _pullback(::Zygote.Context, ::var\"#loss#141\"{Chain{Tuple{Dense{typeof(relu),Array{Float32,2},Array{Float32,1}},Dense{typeof(σ),Array{Float32,2},Array{Float32,1}}}}}, ::Transpose{Float64,Array{Float64,2}}, ::Array{Float64,1}) at C:\\Users\\jbere\\.julia\\packages\\Zygote\\1GXzF\\src\\compiler\\interface2.jl:0",
      " [6] adjoint at C:\\Users\\jbere\\.julia\\packages\\Zygote\\1GXzF\\src\\lib\\lib.jl:179 [inlined]",
      " [7] _pullback at C:\\Users\\jbere\\.julia\\packages\\ZygoteRules\\6nssF\\src\\adjoint.jl:47 [inlined]",
      " [8] #17 at C:\\Users\\jbere\\.julia\\packages\\Flux\\Fj3bt\\src\\optimise\\train.jl:89 [inlined]",
      " [9] _pullback(::Zygote.Context, ::Flux.Optimise.var\"#17#25\"{var\"#loss#141\"{Chain{Tuple{Dense{typeof(relu),Array{Float32,2},Array{Float32,1}},Dense{typeof(σ),Array{Float32,2},Array{Float32,1}}}}},Tuple{Transpose{Float64,Array{Float64,2}},Array{Float64,1}}}) at C:\\Users\\jbere\\.julia\\packages\\Zygote\\1GXzF\\src\\compiler\\interface2.jl:0",
      " [10] pullback(::Function, ::Zygote.Params) at C:\\Users\\jbere\\.julia\\packages\\Zygote\\1GXzF\\src\\compiler\\interface.jl:172",
      " [11] gradient(::Function, ::Zygote.Params) at C:\\Users\\jbere\\.julia\\packages\\Zygote\\1GXzF\\src\\compiler\\interface.jl:53",
      " [12] macro expansion at C:\\Users\\jbere\\.julia\\packages\\Flux\\Fj3bt\\src\\optimise\\train.jl:88 [inlined]",
      " [13] macro expansion at C:\\Users\\jbere\\.julia\\packages\\Juno\\n6wyj\\src\\progress.jl:134 [inlined]",
      " [14] train!(::var\"#loss#141\"{Chain{Tuple{Dense{typeof(relu),Array{Float32,2},Array{Float32,1}},Dense{typeof(σ),Array{Float32,2},Array{Float32,1}}}}}, ::Zygote.Params, ::Array{Tuple{Transpose{Float64,Array{Float64,2}},Array{Float64,1}},1}, ::Descent; cb::Flux.Optimise.var\"#18#26\") at C:\\Users\\jbere\\.julia\\packages\\Flux\\Fj3bt\\src\\optimise\\train.jl:81",
      " [15] train! at C:\\Users\\jbere\\.julia\\packages\\Flux\\Fj3bt\\src\\optimise\\train.jl:79 [inlined]",
      " [16] test_net(::Transpose{Float64,Array{Float64,2}}, ::Array{Float64,1}, ::Chain{Tuple{Dense{typeof(relu),Array{Float32,2},Array{Float32,1}},Dense{typeof(σ),Array{Float32,2},Array{Float32,1}}}}) at .\\In[90]:13",
      " [17] top-level scope at In[90]:20"
     ]
    }
   ],
   "source": [
    "function accuracy(x,y)\n",
    "    labels = [x[i] > 0.5 ? 2.0 : 1.0 for i in 1:length(x)]\n",
    "    scores = [labels[i] == y[i] for i in 1:length(x)]\n",
    "    return sum(scores)/length(x)\n",
    "end\n",
    "\n",
    "function test_net(x,y,m)    \n",
    "    loss(x, y) = Flux.binarycrossentropy(m(x), y)\n",
    "    ps = Flux.params(m)\n",
    "    opt = Descent(0.1)\n",
    "    data = [(x, y)]\n",
    "    for i=1:10\n",
    "        Flux.train!(loss, ps, data, opt)\n",
    "        if i%10 == 0\n",
    "            println(loss(x,y))\n",
    "            println(accuracy(m(x),y))\n",
    "        end\n",
    "    end\n",
    "end\n",
    "\n",
    "test_net(x,y,model1)\n",
    "test_net(x,y,model2)\n",
    "test_net(x,y,model3)\n",
    "test_net(x,y,model4)"
   ]
  },
  {
   "cell_type": "code",
   "execution_count": 76,
   "metadata": {},
   "outputs": [
    {
     "ename": "MethodError",
     "evalue": "MethodError: no method matching -(::Int64, ::Array{Float64,1})\nClosest candidates are:\n  -(!Matched::PyCall.PyObject, ::Any) at C:\\Users\\jbere\\.julia\\packages\\PyCall\\BcTLp\\src\\pyoperators.jl:13\n  -(::Union{Int128, Int16, Int32, Int64, Int8, UInt128, UInt16, UInt32, UInt64, UInt8}) at int.jl:51\n  -(::T, !Matched::T) where T<:Union{Int128, Int16, Int32, Int64, Int8, UInt128, UInt16, UInt32, UInt64, UInt8} at int.jl:52\n  ...",
     "output_type": "error",
     "traceback": [
      "MethodError: no method matching -(::Int64, ::Array{Float64,1})\nClosest candidates are:\n  -(!Matched::PyCall.PyObject, ::Any) at C:\\Users\\jbere\\.julia\\packages\\PyCall\\BcTLp\\src\\pyoperators.jl:13\n  -(::Union{Int128, Int16, Int32, Int64, Int8, UInt128, UInt16, UInt32, UInt64, UInt8}) at int.jl:51\n  -(::T, !Matched::T) where T<:Union{Int128, Int16, Int32, Int64, Int8, UInt128, UInt16, UInt32, UInt64, UInt8} at int.jl:52\n  ...",
      "",
      "Stacktrace:",
      " [1] logitbinarycrossentropy(::Array{Float64,1}, ::Array{Float64,1}) at C:\\Users\\jbere\\.julia\\packages\\Flux\\Fj3bt\\src\\layers\\stateless.jl:148",
      " [2] top-level scope at In[76]:1"
     ]
    }
   ],
   "source": [
    "Flux.logitbinarycrossentropy(y,y)\n"
   ]
  }
 ],
 "metadata": {
  "kernelspec": {
   "display_name": "Julia 1.4.2",
   "language": "julia",
   "name": "julia-1.4"
  },
  "language_info": {
   "file_extension": ".jl",
   "mimetype": "application/julia",
   "name": "julia",
   "version": "1.4.2"
  }
 },
 "nbformat": 4,
 "nbformat_minor": 4
}
