{
 "cells": [
  {
   "cell_type": "code",
   "execution_count": 1,
   "metadata": {},
   "outputs": [],
   "source": [
    "###########################################\n",
    "#Experimenting with Bayesian Models in Pyro\n",
    "#------------------------------------------\n",
    "# 1. Bayes NN with MCMC and learnable output parameter\n",
    "\n",
    "#Library Calls\n",
    "import torch\n",
    "import pyro\n",
    "import matplotlib\n",
    "import imageio\n",
    "import numpy as np\n",
    "import pandas as pd\n",
    "import matplotlib.pyplot as plt\n",
    "import pyro.distributions as dist\n",
    "\n",
    "from torch import nn\n",
    "from matplotlib.colors import ListedColormap\n",
    "from pyro.distributions import Normal, Categorical\n",
    "from pyro.infer import Predictive, config_enumerate\n",
    "from pyro.nn.module import PyroModule, PyroParam, PyroSample, to_pyro_module_\n",
    "from pyro.infer.mcmc.api import MCMC\n",
    "from pyro.infer.mcmc import HMC\n",
    "from pyro.infer import EmpiricalMarginal\n",
    "from pyro.infer.autoguide import AutoDelta\n",
    "from pyro import poutine"
   ]
  },
  {
   "cell_type": "code",
   "execution_count": null,
   "metadata": {},
   "outputs": [],
   "source": []
  },
  {
   "cell_type": "code",
   "execution_count": null,
   "metadata": {},
   "outputs": [],
   "source": []
  }
 ],
 "metadata": {
  "language_info": {
   "codemirror_mode": {
    "name": "ipython",
    "version": 3
   },
   "file_extension": ".py",
   "mimetype": "text/x-python",
   "name": "python",
   "nbconvert_exporter": "python",
   "pygments_lexer": "ipython3",
   "version": "3.7.6-final"
  },
  "orig_nbformat": 2,
  "kernelspec": {
   "name": "python3",
   "display_name": "Python 3"
  }
 },
 "nbformat": 4,
 "nbformat_minor": 2
}