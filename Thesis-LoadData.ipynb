{
 "cells": [
  {
   "cell_type": "code",
   "execution_count": 2,
   "metadata": {},
   "outputs": [],
   "source": [
    "#Libraries\n",
    "push!(LOAD_PATH, \"/home/jberez/Projects/RJMCMC/docker_bh\")\n",
    "using Gen\n",
    "using PyPlot\n",
    "using Distributions\n",
    "using LinearAlgebra\n",
    "using Flux\n",
    "using Random\n",
    "using Distances\n",
    "using JLD\n",
    "using Serialization\n",
    "using StatsBase\n",
    "using BNN\n",
    "\n",
    "#include(\"NUTS.jl\")\n",
    "#include(\"RJNUTS.jl\")\n",
    "#include(\"utils.jl\")\n",
    "#include(\"rj_proposals_layers.jl\")\n",
    "#include(\"BostonHousing.jl\");"
   ]
  },
  {
   "cell_type": "code",
   "execution_count": 3,
   "metadata": {},
   "outputs": [],
   "source": [
    "traces = deserialize(\"Run1.jld\");"
   ]
  },
  {
   "cell_type": "code",
   "execution_count": 4,
   "metadata": {},
   "outputs": [
    {
     "data": {
      "text/plain": [
       "1-element Array{Array{Float64,1},1}:\n",
       " [0.4082541005178679, 0.11224701289223912, -2.587453409434697, -0.5008520417975, 0.346861043954895, 1.2929600783240471, 1.5115615203107178, -0.7777700394675764]"
      ]
     },
     "execution_count": 4,
     "metadata": {},
     "output_type": "execute_result"
    }
   ],
   "source": [
    "[trace[(:b,2)] for trace in traces]"
   ]
  },
  {
   "cell_type": "code",
   "execution_count": null,
   "metadata": {},
   "outputs": [],
   "source": []
  }
 ],
 "metadata": {
  "kernelspec": {
   "display_name": "Julia 1.4.2",
   "language": "julia",
   "name": "julia-1.4"
  },
  "language_info": {
   "file_extension": ".jl",
   "mimetype": "application/julia",
   "name": "julia",
   "version": "1.4.2"
  }
 },
 "nbformat": 4,
 "nbformat_minor": 4
}
